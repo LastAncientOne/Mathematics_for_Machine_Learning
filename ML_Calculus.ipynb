{
  "cells": [
    {
      "cell_type": "markdown",
      "source": [
        "# Machine Learning Calculus"
      ],
      "metadata": {}
    },
    {
      "cell_type": "code",
      "source": [
        "from sympy import *\n",
        "import numpy as np\n",
        "import math\n",
        "\n",
        "x = Symbol('x')\n",
        "y = Symbol('y')"
      ],
      "outputs": [],
      "execution_count": 1,
      "metadata": {
        "collapsed": false,
        "outputHidden": false,
        "inputHidden": false
      }
    },
    {
      "cell_type": "code",
      "source": [
        "limit(1/x**2,x,0)"
      ],
      "outputs": [
        {
          "output_type": "execute_result",
          "execution_count": 2,
          "data": {
            "text/plain": [
              "oo"
            ]
          },
          "metadata": {}
        }
      ],
      "execution_count": 2,
      "metadata": {
        "collapsed": false,
        "outputHidden": false,
        "inputHidden": false
      }
    },
    {
      "cell_type": "code",
      "source": [
        "# Find the limit of Functions\n",
        "from sympy import Limit, Symbol, S\n",
        "\nLimit(1/x, x, S.Infinity)"
      ],
      "outputs": [
        {
          "output_type": "execute_result",
          "execution_count": 3,
          "data": {
            "text/plain": [
              "Limit(1/x, x, oo, dir='-')"
            ]
          },
          "metadata": {}
        }
      ],
      "execution_count": 3,
      "metadata": {
        "collapsed": false,
        "outputHidden": false,
        "inputHidden": false
      }
    },
    {
      "cell_type": "code",
      "source": [
        "# To find the value\n",
        "l = Limit(1/x, x, S.Infinity)\n",
        "l.doit()"
      ],
      "outputs": [
        {
          "output_type": "execute_result",
          "execution_count": 4,
          "data": {
            "text/plain": [
              "0"
            ]
          },
          "metadata": {}
        }
      ],
      "execution_count": 4,
      "metadata": {
        "collapsed": false,
        "outputHidden": false,
        "inputHidden": false
      }
    },
    {
      "cell_type": "code",
      "source": [
        "# Differentiation\n",
        "diff(15*x**100-3*x**12+5*x-46)"
      ],
      "outputs": [
        {
          "output_type": "execute_result",
          "execution_count": 5,
          "data": {
            "text/plain": [
              "1500*x**99 - 36*x**11 + 5"
            ]
          },
          "metadata": {}
        }
      ],
      "execution_count": 5,
      "metadata": {
        "collapsed": false,
        "outputHidden": false,
        "inputHidden": false
      }
    },
    {
      "cell_type": "code",
      "source": [
        "# Constant\n",
        "diff(99)"
      ],
      "outputs": [
        {
          "output_type": "execute_result",
          "execution_count": 6,
          "data": {
            "text/plain": [
              "0"
            ]
          },
          "metadata": {}
        }
      ],
      "execution_count": 6,
      "metadata": {
        "collapsed": false,
        "outputHidden": false,
        "inputHidden": false
      }
    },
    {
      "cell_type": "code",
      "source": [
        "# Multiplication by Constant\n",
        "diff(3*x)"
      ],
      "outputs": [
        {
          "output_type": "execute_result",
          "execution_count": 7,
          "data": {
            "text/plain": [
              "3"
            ]
          },
          "metadata": {}
        }
      ],
      "execution_count": 7,
      "metadata": {
        "collapsed": false,
        "outputHidden": false,
        "inputHidden": false
      }
    },
    {
      "cell_type": "code",
      "source": [
        "# Power Rule\n",
        "diff(x**3)"
      ],
      "outputs": [
        {
          "output_type": "execute_result",
          "execution_count": 8,
          "data": {
            "text/plain": [
              "3*x**2"
            ]
          },
          "metadata": {}
        }
      ],
      "execution_count": 8,
      "metadata": {
        "collapsed": false,
        "outputHidden": false,
        "inputHidden": false
      }
    },
    {
      "cell_type": "code",
      "source": [
        "# Sum Rule\n",
        "diff(x**2+3*x)"
      ],
      "outputs": [
        {
          "output_type": "execute_result",
          "execution_count": 9,
          "data": {
            "text/plain": [
              "2*x + 3"
            ]
          },
          "metadata": {}
        }
      ],
      "execution_count": 9,
      "metadata": {
        "collapsed": false,
        "outputHidden": false,
        "inputHidden": false
      }
    },
    {
      "cell_type": "code",
      "source": [
        "# Difference Rule\n",
        "diff(x**2-3*x)"
      ],
      "outputs": [
        {
          "output_type": "execute_result",
          "execution_count": 10,
          "data": {
            "text/plain": [
              "2*x - 3"
            ]
          },
          "metadata": {}
        }
      ],
      "execution_count": 10,
      "metadata": {
        "collapsed": false,
        "outputHidden": false,
        "inputHidden": false
      }
    },
    {
      "cell_type": "code",
      "source": [
        "# Product Rule\n",
        "diff(x**2*x)"
      ],
      "outputs": [
        {
          "output_type": "execute_result",
          "execution_count": 11,
          "data": {
            "text/plain": [
              "3*x**2"
            ]
          },
          "metadata": {}
        }
      ],
      "execution_count": 11,
      "metadata": {
        "collapsed": false,
        "outputHidden": false,
        "inputHidden": false
      }
    },
    {
      "cell_type": "code",
      "source": [
        "# Chain Rule\n",
        "diff(ln(x**2))"
      ],
      "outputs": [
        {
          "output_type": "execute_result",
          "execution_count": 12,
          "data": {
            "text/plain": [
              "2/x"
            ]
          },
          "metadata": {}
        }
      ],
      "execution_count": 12,
      "metadata": {
        "collapsed": false,
        "outputHidden": false,
        "inputHidden": false
      }
    },
    {
      "cell_type": "code",
      "source": [
        "# Example\n",
        "diff(9*(x+x**2))"
      ],
      "outputs": [
        {
          "output_type": "execute_result",
          "execution_count": 13,
          "data": {
            "text/plain": [
              "18*x + 9"
            ]
          },
          "metadata": {}
        }
      ],
      "execution_count": 13,
      "metadata": {
        "collapsed": false,
        "outputHidden": false,
        "inputHidden": false
      }
    },
    {
      "cell_type": "code",
      "source": [
        "# Matrix Calculus\n",
        "a = diff(3*x**2*y,x)\n",
        "b = diff(3*x**2*y,y)\n",
        "c = diff(2*x+8*y**7,x)\n",
        "d = diff(2*x+y**8,y)"
      ],
      "outputs": [],
      "execution_count": 14,
      "metadata": {
        "collapsed": false,
        "outputHidden": false,
        "inputHidden": false
      }
    },
    {
      "cell_type": "code",
      "source": [
        "print(a)\n",
        "print(b)\n",
        "print(c)\n",
        "print(d)"
      ],
      "outputs": [
        {
          "output_type": "stream",
          "name": "stdout",
          "text": [
            "6*x*y\n",
            "3*x**2\n",
            "2\n",
            "8*y**7\n"
          ]
        }
      ],
      "execution_count": 15,
      "metadata": {
        "collapsed": false,
        "outputHidden": false,
        "inputHidden": false
      }
    },
    {
      "cell_type": "code",
      "source": [
        "import numpy as np\n",
        "Matrix_Calculus = np.matrix([[a, c], [b,d]])\n",
        "Matrix_Calculus "
      ],
      "outputs": [
        {
          "output_type": "execute_result",
          "execution_count": 16,
          "data": {
            "text/plain": [
              "matrix([[6*x*y, 2],\n",
              "        [3*x**2, 8*y**7]], dtype=object)"
            ]
          },
          "metadata": {}
        }
      ],
      "execution_count": 16,
      "metadata": {
        "collapsed": false,
        "outputHidden": false,
        "inputHidden": false
      }
    },
    {
      "cell_type": "code",
      "source": [
        "# Chain Rule\n",
        "diff(ln(sin(x**3)**2))"
      ],
      "outputs": [
        {
          "output_type": "execute_result",
          "execution_count": 17,
          "data": {
            "text/plain": [
              "6*x**2*cos(x**3)/sin(x**3)"
            ]
          },
          "metadata": {}
        }
      ],
      "execution_count": 17,
      "metadata": {
        "collapsed": false,
        "outputHidden": false,
        "inputHidden": false
      }
    },
    {
      "cell_type": "code",
      "source": [
        "# Sigmoid\n",
        "# d/dx S(x)=S(x)(1−S(x)) \n",
        "diff(1/(1+math.e**-x),x)"
      ],
      "outputs": [
        {
          "output_type": "execute_result",
          "execution_count": 18,
          "data": {
            "text/plain": [
              "1.0*2.71828182845905**(-x)/(1 + 2.71828182845905**(-x))**2"
            ]
          },
          "metadata": {}
        }
      ],
      "execution_count": 18,
      "metadata": {
        "collapsed": false,
        "outputHidden": false,
        "inputHidden": false
      }
    },
    {
      "cell_type": "code",
      "source": [
        "# Integral\n",
        "import sympy\n",
        "sympy.init_printing()\n",
        "sympy.integrate(2*x, (x, 1, 0))"
      ],
      "outputs": [
        {
          "output_type": "execute_result",
          "execution_count": 19,
          "data": {
            "image/png": "[encoded data removed]",
            "text/plain": [
              "-1"
            ],
            "text/latex": [
              "$$-1$$"
            ]
          },
          "metadata": {}
        }
      ],
      "execution_count": 19,
      "metadata": {
        "collapsed": false,
        "outputHidden": false,
        "inputHidden": false
      }
    },
    {
      "cell_type": "code",
      "source": [
        "# Jacobian\n",
        "from sympy import sin, cos, Matrix\n",
        "from sympy.abc import rho, phi\n",
        "\n",
        "X = Matrix([rho*cos(phi), rho*sin(phi), rho**2])\n",
        "Y = Matrix([rho, phi])\n",
        "\nX.jacobian(Y)"
      ],
      "outputs": [
        {
          "output_type": "execute_result",
          "execution_count": 20,
          "data": {
            "text/plain": [
              "⎡cos(φ)  -ρ⋅sin(φ)⎤\n",
              "⎢                 ⎥\n",
              "⎢sin(φ)  ρ⋅cos(φ) ⎥\n",
              "⎢                 ⎥\n",
              "⎣ 2⋅ρ        0    ⎦"
            ],
            "text/latex": [
              "$$\\left[\\begin{matrix}\\cos{\\left (\\phi \\right )} & - \\rho \\sin{\\left (\\phi \\right )}\\\\\\sin{\\left (\\phi \\right )} & \\rho \\cos{\\left (\\phi \\right )}\\\\2 \\rho & 0\\end{matrix}\\right]$$"
            ]
          },
          "metadata": {}
        }
      ],
      "execution_count": 20,
      "metadata": {
        "collapsed": false,
        "outputHidden": false,
        "inputHidden": false
      }
    },
    {
      "cell_type": "code",
      "source": [
        "# Example Calculating the Jacobian\n",
        "# Equation\n",
        "eq = x**2*y + 3/4*x*y + 10\n",
        "eq"
      ],
      "outputs": [
        {
          "output_type": "execute_result",
          "execution_count": 21,
          "data": {
            "image/png": "[encoded data removed]",
            "text/plain": [
              " 2                  \n",
              "x ⋅y + 0.75⋅x⋅y + 10"
            ],
            "text/latex": [
              "$$x^{2} y + 0.75 x y + 10$$"
            ]
          },
          "metadata": {}
        }
      ],
      "execution_count": 21,
      "metadata": {
        "collapsed": false,
        "outputHidden": false,
        "inputHidden": false
      }
    },
    {
      "cell_type": "code",
      "source": [
        "# Jacobian matrix \n",
        "x, y, z = symbols('x y z')\n",
        "Matrix([sin(x) + y, cos(y) + x, z]).jacobian([x, y, z])"
      ],
      "outputs": [
        {
          "output_type": "execute_result",
          "execution_count": 22,
          "data": {
            "text/plain": [
              "⎡cos(x)     1     0⎤\n",
              "⎢                  ⎥\n",
              "⎢  1     -sin(y)  0⎥\n",
              "⎢                  ⎥\n",
              "⎣  0        0     1⎦"
            ],
            "text/latex": [
              "$$\\left[\\begin{matrix}\\cos{\\left (x \\right )} & 1 & 0\\\\1 & - \\sin{\\left (y \\right )} & 0\\\\0 & 0 & 1\\end{matrix}\\right]$$"
            ]
          },
          "metadata": {}
        }
      ],
      "execution_count": 22,
      "metadata": {
        "collapsed": false,
        "outputHidden": false,
        "inputHidden": false
      }
    },
    {
      "cell_type": "code",
      "source": [
        "# (x,y)=(0,0)\n",
        "x1 = -y\n",
        "x2 = x - 2*y * (2-x**2)\n",
        "J = sympy.Matrix([x1,x2])\n",
        "J.jacobian([x,y])"
      ],
      "outputs": [
        {
          "output_type": "execute_result",
          "execution_count": 23,
          "data": {
            "text/plain": [
              "⎡    0         -1   ⎤\n",
              "⎢                   ⎥\n",
              "⎢              2    ⎥\n",
              "⎣4⋅x⋅y + 1  2⋅x  - 4⎦"
            ],
            "text/latex": [
              "$$\\left[\\begin{matrix}0 & -1\\\\4 x y + 1 & 2 x^{2} - 4\\end{matrix}\\right]$$"
            ]
          },
          "metadata": {}
        }
      ],
      "execution_count": 23,
      "metadata": {
        "collapsed": false,
        "outputHidden": false,
        "inputHidden": false
      }
    },
    {
      "cell_type": "code",
      "source": [
        "J.jacobian([x,y]).subs([(x,0), (y,0)])"
      ],
      "outputs": [
        {
          "output_type": "execute_result",
          "execution_count": 24,
          "data": {
            "text/plain": [
              "⎡0  -1⎤\n",
              "⎢     ⎥\n",
              "⎣1  -4⎦"
            ],
            "text/latex": [
              "$$\\left[\\begin{matrix}0 & -1\\\\1 & -4\\end{matrix}\\right]$$"
            ]
          },
          "metadata": {}
        }
      ],
      "execution_count": 24,
      "metadata": {
        "collapsed": false,
        "outputHidden": false,
        "inputHidden": false
      }
    },
    {
      "cell_type": "code",
      "source": [
        "# Derivatives of x\n",
        "de_x = diff(x**2*y + 3/4*x*y + 10, x)\n",
        "de_x"
      ],
      "outputs": [
        {
          "output_type": "execute_result",
          "execution_count": 25,
          "data": {
            "image/png": "[encoded data removed]",
            "text/plain": [
              "2⋅x⋅y + 0.75⋅y"
            ],
            "text/latex": [
              "$$2 x y + 0.75 y$$"
            ]
          },
          "metadata": {}
        }
      ],
      "execution_count": 25,
      "metadata": {
        "collapsed": false,
        "outputHidden": false,
        "inputHidden": false
      }
    },
    {
      "cell_type": "code",
      "source": [
        "# Derivatives of y\n",
        "de_y = diff(x**2*y + 3/4*x*y + 10, y)\n",
        "de_y"
      ],
      "outputs": [
        {
          "output_type": "execute_result",
          "execution_count": 26,
          "data": {
            "image/png": "[encoded data removed]",
            "text/plain": [
              " 2         \n",
              "x  + 0.75⋅x"
            ],
            "text/latex": [
              "$$x^{2} + 0.75 x$$"
            ]
          },
          "metadata": {}
        }
      ],
      "execution_count": 26,
      "metadata": {
        "collapsed": false,
        "outputHidden": false,
        "inputHidden": false
      }
    },
    {
      "cell_type": "code",
      "source": [
        "# Example\n",
        "F = sympy.Matrix([de_x,de_y])\n",
        "F.jacobian([x,y])"
      ],
      "outputs": [
        {
          "output_type": "execute_result",
          "execution_count": 27,
          "data": {
            "text/plain": [
              "⎡   2⋅y      2⋅x + 0.75⎤\n",
              "⎢                      ⎥\n",
              "⎣2⋅x + 0.75      0     ⎦"
            ],
            "text/latex": [
              "$$\\left[\\begin{matrix}2 y & 2 x + 0.75\\\\2 x + 0.75 & 0\\end{matrix}\\right]$$"
            ]
          },
          "metadata": {}
        }
      ],
      "execution_count": 27,
      "metadata": {
        "collapsed": false,
        "outputHidden": false,
        "inputHidden": false
      }
    },
    {
      "cell_type": "code",
      "source": [
        "F.jacobian([x,y]).subs([(x,0), (y,0)])"
      ],
      "outputs": [
        {
          "output_type": "execute_result",
          "execution_count": 28,
          "data": {
            "text/plain": [
              "⎡ 0    0.75⎤\n",
              "⎢          ⎥\n",
              "⎣0.75   0  ⎦"
            ],
            "text/latex": [
              "$$\\left[\\begin{matrix}0 & 0.75\\\\0.75 & 0\\end{matrix}\\right]$$"
            ]
          },
          "metadata": {}
        }
      ],
      "execution_count": 28,
      "metadata": {
        "collapsed": false,
        "outputHidden": false,
        "inputHidden": false
      }
    },
    {
      "cell_type": "code",
      "source": [
        "# Hessian\n",
        "from sympy import Function, hessian, pprint\n",
        "from sympy.abc import x, y\n",
        "f = Function('f')(x, y)\n",
        "g1 = Function('g')(x, y)\n",
        "g2 = x**2+y**2\n",
        "pprint(hessian(f, (x,y), [g1, g2]))"
      ],
      "outputs": [
        {
          "output_type": "stream",
          "name": "stdout",
          "text": [
            "⎡                   ∂               ∂            ⎤\n",
            "⎢     0        0    ──(g(x, y))     ──(g(x, y))  ⎥\n",
            "⎢                   ∂x              ∂y           ⎥\n",
            "⎢                                                ⎥\n",
            "⎢     0        0        2⋅x             2⋅y      ⎥\n",
            "⎢                                                ⎥\n",
            "⎢                     2               2          ⎥\n",
            "⎢∂                   ∂               ∂           ⎥\n",
            "⎢──(g(x, y))  2⋅x   ───(f(x, y))   ─────(f(x, y))⎥\n",
            "⎢∂x                   2            ∂y ∂x         ⎥\n",
            "⎢                   ∂x                           ⎥\n",
            "⎢                                                ⎥\n",
            "⎢                     2               2          ⎥\n",
            "⎢∂                   ∂               ∂           ⎥\n",
            "⎢──(g(x, y))  2⋅y  ─────(f(x, y))   ───(f(x, y)) ⎥\n",
            "⎢∂y                ∂y ∂x              2          ⎥\n",
            "⎣                                   ∂y           ⎦\n"
          ]
        }
      ],
      "execution_count": 29,
      "metadata": {
        "collapsed": false,
        "outputHidden": false,
        "inputHidden": false
      }
    },
    {
      "cell_type": "code",
      "source": [
        "import numpy as np\n",
        "import matplotlib.pyplot as plt\n",
        "\n",
        "def tanh(x):\n",
        "    return np.tanh(x)\n",
        "\n",
        "X = np.linspace(-5, 5, 100)\n",
        "plt.plot(X, tanh(X),'b')\n",
        "plt.xlabel('X Axis')\n",
        "plt.ylabel('Y Axis')\n",
        "plt.title('Neural Networks - Activation Function')\n",
        "plt.grid()\n",
        "plt.text(4, 0.8, r'$\\sigma(x)=\\tanh{(x)}}$', fontsize=16)\n",
        "plt.show()"
      ],
      "outputs": [
        {
          "output_type": "display_data",
          "data": {
            "text/plain": [
              "<Figure size 640x480 with 1 Axes>"
            ]
          },
          "metadata": {}
        }
      ],
      "execution_count": 30,
      "metadata": {
        "collapsed": false,
        "outputHidden": false,
        "inputHidden": false
      }
    },
    {
      "cell_type": "code",
      "source": [
        "def sigma(x):\n",
        "    return (np.exp(x) - np.exp(-x)) / (np.exp(x) + np.exp(-x))\n",
        "\n",
        "X = np.linspace(-5, 5, 100)\n",
        "plt.plot(X, sigma(X),'b')\n",
        "plt.xlabel('X Axis')\n",
        "plt.ylabel('Y Axis')\n",
        "plt.title('Sigmoid Function')\n",
        "plt.grid()\n",
        "plt.text(4, 0.8, r'$\\sigma(x)=\\frac{e^{x}-e^{-x}}{e^{x}+e^{-x}}$', fontsize=16)\n",
        "plt.show()"
      ],
      "outputs": [
        {
          "output_type": "display_data",
          "data": {
            "image/png": "[encoded data removed]",
            "text/plain": [
              "<Figure size 432x288 with 1 Axes>"
            ]
          },
          "metadata": {}
        }
      ],
      "execution_count": 31,
      "metadata": {
        "collapsed": false,
        "outputHidden": false,
        "inputHidden": false
      }
    },
    {
      "cell_type": "code",
      "source": [
        "def derivatives_sigma(x):\n",
        "    return 1 / (np.cosh(x))**2\n",
        "\n",
        "X = np.linspace(-5, 5, 100)\n",
        "plt.plot(X, derivatives_sigma(X),'b')\n",
        "plt.xlabel('X Axis')\n",
        "plt.ylabel('Y Axis')\n",
        "plt.title('Sigmoid Function')\n",
        "plt.grid()\n",
        "plt.text(4, 0.8, r'$\\sigma(x)=\\frac{1}{cosh^2(x)}$', fontsize=16)\n",
        "plt.show()"
      ],
      "outputs": [
        {
          "output_type": "display_data",
          "data": {
            "image/png": "[encoded data removed]",
            "text/plain": [
              "<Figure size 432x288 with 1 Axes>"
            ]
          },
          "metadata": {}
        }
      ],
      "execution_count": 32,
      "metadata": {
        "collapsed": false,
        "outputHidden": false,
        "inputHidden": false
      }
    },
    {
      "cell_type": "code",
      "source": [
        "def derivatives_sigma(x):\n",
        "    return 4 / (np.exp(x)+np.exp(-x))**2\n",
        "\n",
        "X = np.linspace(-5, 5, 100)\n",
        "plt.plot(X, derivatives_sigma(X),'b')\n",
        "plt.xlabel('X Axis')\n",
        "plt.ylabel('Y Axis')\n",
        "plt.title('Sigmoid Function')\n",
        "plt.grid()\n",
        "plt.text(4, 0.8, r'$\\sigma(x)=\\frac{4}{(e^{x}+e^{-x})^2}$', fontsize=16)\n",
        "plt.show()"
      ],
      "outputs": [
        {
          "output_type": "display_data",
          "data": {
            "image/png": "[encoded data removed]",
            "text/plain": [
              "<Figure size 432x288 with 1 Axes>"
            ]
          },
          "metadata": {}
        }
      ],
      "execution_count": 33,
      "metadata": {
        "collapsed": false,
        "outputHidden": false,
        "inputHidden": false
      }
    },
    {
      "cell_type": "code",
      "source": [
        "# Newton_Raphson\n",
        "# f(x) - the function of the polynomial\n",
        "from sympy import *\n",
        "\n",
        "def f(x):\n",
        "    function = x**3 - x - 1\n",
        "    return function\n",
        "\n",
        "def derivative(x): #function to find the derivative of the polynomial\n",
        "    derivative = diff(f(x), x)\n",
        "    return derivative\n",
        "\n",
        "def Newton_Raphson(x):\n",
        "\treturn (x - (f(x) / derivative(x)))\n",
        "\nNewton_Raphson(x)"
      ],
      "outputs": [
        {
          "output_type": "execute_result",
          "execution_count": 34,
          "data": {
            "image/png": "[encoded data removed]",
            "text/plain": [
              "     3        \n",
              "    x  - x - 1\n",
              "x - ──────────\n",
              "        2     \n",
              "     3⋅x  - 1 "
            ],
            "text/latex": [
              "$$x - \\frac{x^{3} - x - 1}{3 x^{2} - 1}$$"
            ]
          },
          "metadata": {}
        }
      ],
      "execution_count": 34,
      "metadata": {
        "collapsed": false,
        "outputHidden": false,
        "inputHidden": false
      }
    },
    {
      "cell_type": "code",
      "source": [
        "# Advanced Chain Rule\n",
        "# F(y)=ln(1−5y2+y3)\n",
        "from sympy import *\n",
        "\n",
        "y = symbols('y')\n",
        "F = symbols('F', cls=Function)\n",
        "\n\nDerivative(ln(1 - 5*y**2 + y**3)).doit()"
      ],
      "outputs": [
        {
          "output_type": "execute_result",
          "execution_count": 35,
          "data": {
            "image/png": "[encoded data removed]",
            "text/plain": [
              "    2        \n",
              " 3⋅y  - 10⋅y \n",
              "─────────────\n",
              " 3      2    \n",
              "y  - 5⋅y  + 1"
            ],
            "text/latex": [
              "$$\\frac{3 y^{2} - 10 y}{y^{3} - 5 y^{2} + 1}$$"
            ]
          },
          "metadata": {}
        }
      ],
      "execution_count": 35,
      "metadata": {
        "collapsed": false,
        "outputHidden": false,
        "inputHidden": false
      }
    },
    {
      "cell_type": "code",
      "source": [
        "diff(ln(1 - 5*y**2 + y**3))"
      ],
      "outputs": [
        {
          "output_type": "execute_result",
          "execution_count": 36,
          "data": {
            "image/png": "[encoded data removed]",
            "text/plain": [
              "    2        \n",
              " 3⋅y  - 10⋅y \n",
              "─────────────\n",
              " 3      2    \n",
              "y  - 5⋅y  + 1"
            ],
            "text/latex": [
              "$$\\frac{3 y^{2} - 10 y}{y^{3} - 5 y^{2} + 1}$$"
            ]
          },
          "metadata": {}
        }
      ],
      "execution_count": 36,
      "metadata": {
        "collapsed": false,
        "outputHidden": false,
        "inputHidden": false
      }
    }
  ],
  "metadata": {
    "kernelspec": {
      "name": "python3",
      "language": "python",
      "display_name": "Python 3"
    },
    "kernel_info": {
      "name": "python3"
    },
    "language_info": {
      "mimetype": "text/x-python",
      "codemirror_mode": {
        "name": "ipython",
        "version": 3
      },
      "nbconvert_exporter": "python",
      "name": "python",
      "file_extension": ".py",
      "pygments_lexer": "ipython3",
      "version": "3.5.5"
    },
    "nteract": {
      "version": "0.12.2"
    }
  },
  "nbformat": 4,
  "nbformat_minor": 4
}