{
  "cells": [
    {
      "cell_type": "markdown",
      "source": [
        "# Solving some system of equations"
      ],
      "metadata": {}
    },
    {
      "cell_type": "code",
      "source": [
        "import numpy as np"
      ],
      "outputs": [],
      "execution_count": 1,
      "metadata": {
        "collapsed": false,
        "outputHidden": false,
        "inputHidden": false
      }
    },
    {
      "cell_type": "code",
      "source": [
        "# Solving following system of linear equation\n",
        "# 3x + 2y = 7\n",
        "# 2x + 3y = 9\n",
        "\n",
        "x = np.array([[3, 2],[2,3]])\n",
        "y = np.array([7, 8])\n",
        "\nprint(np.linalg.solve(x,y))"
      ],
      "outputs": [
        {
          "output_type": "stream",
          "name": "stdout",
          "text": [
            "[ 1.  2.]\n"
          ]
        }
      ],
      "execution_count": 2,
      "metadata": {
        "collapsed": false,
        "outputHidden": false,
        "inputHidden": false
      }
    },
    {
      "cell_type": "code",
      "source": [
        "# Solving following system of linear equation\n",
        "# 9x - 17y = -20\n",
        "# -13x + 7y = -94\n",
        "\n",
        "x = np.array([[9, -17],[-13,7]])\n",
        "y = np.array([-20, -94])\n",
        "\nprint(np.linalg.solve(x,y))"
      ],
      "outputs": [
        {
          "output_type": "stream",
          "name": "stdout",
          "text": [
            "[ 11.   7.]\n"
          ]
        }
      ],
      "execution_count": 3,
      "metadata": {
        "collapsed": false,
        "outputHidden": false,
        "inputHidden": false
      }
    },
    {
      "cell_type": "code",
      "source": [
        "# 5x - 2y = -13\n",
        "# 4x + 5y = -6\n",
        "\n",
        "x = np.array([[5, -2],[4,5]])\n",
        "y = np.array([-13, -6])\n",
        "\nprint(np.linalg.solve(x,y))"
      ],
      "outputs": [
        {
          "output_type": "stream",
          "name": "stdout",
          "text": [
            "[-2.33333333  0.66666667]\n"
          ]
        }
      ],
      "execution_count": 4,
      "metadata": {
        "collapsed": false,
        "outputHidden": false,
        "inputHidden": false
      }
    },
    {
      "cell_type": "code",
      "source": [
        "# 5x + 7y = 11\n",
        "# 20x - 18y = 39\n",
        "\n",
        "x = np.array([[5, 7],[20,-18]])\n",
        "y = np.array([11, 39])\n",
        "\nprint(np.linalg.solve(x,y))"
      ],
      "outputs": [
        {
          "output_type": "stream",
          "name": "stdout",
          "text": [
            "[ 2.04782609  0.10869565]\n"
          ]
        }
      ],
      "execution_count": 5,
      "metadata": {
        "collapsed": false,
        "outputHidden": false,
        "inputHidden": false
      }
    },
    {
      "cell_type": "code",
      "source": [
        "# 3x - 2y + z = 7\n",
        "# x + y + z = 2\n",
        "# 3x - 2y - z = 3 \n",
        "\n",
        "x = np.array([[3, -2, 1],[1, 1, 1],[3, -2, -1]])\n",
        "y = np.array([7, 2, 3])\n",
        "\nprint(np.linalg.solve(x,y))"
      ],
      "outputs": [
        {
          "output_type": "stream",
          "name": "stdout",
          "text": [
            "[ 1. -1.  2.]\n"
          ]
        }
      ],
      "execution_count": 6,
      "metadata": {
        "collapsed": false,
        "outputHidden": false,
        "inputHidden": false
      }
    },
    {
      "cell_type": "code",
      "source": [
        "# 5x - 2y = -13\n",
        "# 4x + 5y = -6\n",
        "\n",
        "from sympy import *\n",
        "\n",
        "x, y = symbols(['x', 'y'])\n",
        "system = [Eq(5*x - 2*y, -7),\n",
        "          Eq(4*x + 5*y, -8)]\n",
        "\n",
        "solutions = solve(system, [x, y])\n",
        "print(solutions)"
      ],
      "outputs": [
        {
          "output_type": "stream",
          "name": "stdout",
          "text": [
            "{x: -17/11, y: -4/11}\n"
          ]
        }
      ],
      "execution_count": 7,
      "metadata": {
        "collapsed": false,
        "outputHidden": false,
        "inputHidden": false
      }
    },
    {
      "cell_type": "code",
      "source": [
        "# 3x - 2y + z = 7\n",
        "# x + y + z = 2\n",
        "# 3x - 2y - z = 3 \n",
        "\n",
        "from sympy import *\n",
        "\n",
        "x, y, z = symbols(['x', 'y', 'z'])\n",
        "system = [Eq(3*x - 2*y + z, 7),\n",
        "          Eq(x + y + z, 2),\n",
        "          Eq(3*x - 2*y - z, 3)]\n",
        "\n",
        "solutions = solve(system, [x, y, z])\n",
        "print(solutions)"
      ],
      "outputs": [
        {
          "output_type": "stream",
          "name": "stdout",
          "text": [
            "{x: 1, y: -1, z: 2}\n"
          ]
        }
      ],
      "execution_count": 8,
      "metadata": {
        "collapsed": false,
        "outputHidden": false,
        "inputHidden": false
      }
    },
    {
      "cell_type": "code",
      "source": [
        "x = np.array([[3, -2, 1],[1, 1, 1],[3, -2, -1]])\n",
        "y = np.array([7, 2, 3])\n",
        "\n",
        "# linalg.solve is the function of NumPy to solve a system of linear scalar equations \n",
        "print(\"Solutions:\\n\", np.linalg.solve(x, y))"
      ],
      "outputs": [
        {
          "output_type": "stream",
          "name": "stdout",
          "text": [
            "Solutions:\n",
            " [ 1. -1.  2.]\n"
          ]
        }
      ],
      "execution_count": 9,
      "metadata": {
        "collapsed": false,
        "outputHidden": false,
        "inputHidden": false
      }
    },
    {
      "cell_type": "markdown",
      "source": [
        "## LU decomposition with SciPy"
      ],
      "metadata": {}
    },
    {
      "cell_type": "code",
      "source": [
        "# LU decomposition with SciPy\n",
        "import scipy.linalg as linalg # Package for LU decomposition\n",
        "\n",
        "x = np.array([[3, -2, 1],[1, 1, 1],[3, -2, -1]])\n",
        "y = np.array([7, 2, 3])\n",
        "\n\n",
        "LU = linalg.lu_factor(x)\n",
        "x = linalg.lu_solve(LU, y) \n",
        "print(\"Solutions:\\n\",x) "
      ],
      "outputs": [
        {
          "output_type": "stream",
          "name": "stdout",
          "text": [
            "Solutions:\n",
            " [ 1. -1.  2.]\n"
          ]
        }
      ],
      "execution_count": 10,
      "metadata": {
        "collapsed": false,
        "outputHidden": false,
        "inputHidden": false
      }
    },
    {
      "cell_type": "code",
      "source": [
        "import scipy\n",
        "x = scipy.array([[3, -2, 1],[1, 1, 1],[3, -2, -1]])\n",
        "P, L, U = scipy.linalg.lu(x)"
      ],
      "outputs": [],
      "execution_count": 11,
      "metadata": {
        "collapsed": false,
        "outputHidden": false,
        "inputHidden": false
      }
    },
    {
      "cell_type": "code",
      "source": [
        "print(\"x:\\n\", x)\n",
        "print(\"-\"*50)\n",
        "print(\"P:\\n\", P)\n",
        "print(\"-\"*50)\n",
        "print(\"L:\\n\", L)\n",
        "print(\"-\"*50)\n",
        "print(\"U:\\n\", U)"
      ],
      "outputs": [
        {
          "output_type": "stream",
          "name": "stdout",
          "text": [
            "x:\n",
            " [[ 3 -2  1]\n",
            " [ 1  1  1]\n",
            " [ 3 -2 -1]]\n",
            "--------------------------------------------------\n",
            "P:\n",
            " [[ 1.  0.  0.]\n",
            " [ 0.  1.  0.]\n",
            " [ 0.  0.  1.]]\n",
            "--------------------------------------------------\n",
            "L:\n",
            " [[ 1.          0.          0.        ]\n",
            " [ 0.33333333  1.          0.        ]\n",
            " [ 1.          0.          1.        ]]\n",
            "--------------------------------------------------\n",
            "U:\n",
            " [[ 3.         -2.          1.        ]\n",
            " [ 0.          1.66666667  0.66666667]\n",
            " [ 0.          0.         -2.        ]]\n"
          ]
        }
      ],
      "execution_count": 12,
      "metadata": {
        "collapsed": false,
        "outputHidden": false,
        "inputHidden": false
      }
    },
    {
      "cell_type": "markdown",
      "source": [
        "## Euclidean "
      ],
      "metadata": {}
    },
    {
      "cell_type": "code",
      "source": [
        "from scipy.spatial import distance\n",
        "a = (1, 2, 3)\n",
        "b = (4, 5, 6)\n",
        "euc_dist = distance.euclidean(a, b)\n",
        "\nprint(\"Euclidean Distance:\", euc_dist)"
      ],
      "outputs": [
        {
          "output_type": "stream",
          "name": "stdout",
          "text": [
            "Euclidean Distance: 5.19615242271\n"
          ]
        }
      ],
      "execution_count": 13,
      "metadata": {
        "collapsed": false,
        "outputHidden": false,
        "inputHidden": false
      }
    },
    {
      "cell_type": "markdown",
      "source": [
        "## Hadamard Product"
      ],
      "metadata": {}
    },
    {
      "cell_type": "code",
      "source": [
        "a = np.array([[1,2],[3,4]])\n",
        "b = np.array([[5,6],[7,8]])\n",
        "hp = np.multiply(a,b)\n",
        "\nprint(\"Hadamard Product:\\n\", hp)"
      ],
      "outputs": [
        {
          "output_type": "stream",
          "name": "stdout",
          "text": [
            "Hadamard Product:\n",
            " [[ 5 12]\n",
            " [21 32]]\n"
          ]
        }
      ],
      "execution_count": 14,
      "metadata": {}
    },
    {
      "cell_type": "code",
      "source": [
        "# Another method\n",
        "a * b "
      ],
      "outputs": [
        {
          "output_type": "execute_result",
          "execution_count": 15,
          "data": {
            "text/plain": [
              "array([[ 5, 12],\n",
              "       [21, 32]])"
            ]
          },
          "metadata": {}
        }
      ],
      "execution_count": 15,
      "metadata": {
        "collapsed": false,
        "outputHidden": false,
        "inputHidden": false
      }
    },
    {
      "cell_type": "code",
      "source": [
        "# Another method\n",
        "np.multiply(a,b)"
      ],
      "outputs": [
        {
          "output_type": "execute_result",
          "execution_count": 16,
          "data": {
            "text/plain": [
              "array([[ 5, 12],\n",
              "       [21, 32]])"
            ]
          },
          "metadata": {}
        }
      ],
      "execution_count": 16,
      "metadata": {
        "collapsed": false,
        "outputHidden": false,
        "inputHidden": false
      }
    },
    {
      "cell_type": "markdown",
      "source": [
        "## Dot Product"
      ],
      "metadata": {}
    },
    {
      "cell_type": "code",
      "source": [
        "x = np.array([[1,2],[3,4]])\n",
        "y = np.array([[5,6],[7,8]])\n",
        "\n",
        "dp = x @ y\n",
        "print('Dot Product:\\n', dp)"
      ],
      "outputs": [
        {
          "output_type": "stream",
          "name": "stdout",
          "text": [
            "Dot Product:\n",
            " [[19 22]\n",
            " [43 50]]\n"
          ]
        }
      ],
      "execution_count": 17,
      "metadata": {
        "collapsed": false,
        "outputHidden": false,
        "inputHidden": false
      }
    },
    {
      "cell_type": "code",
      "source": [
        "# Another Method\n",
        "np.dot(x,y)"
      ],
      "outputs": [
        {
          "output_type": "execute_result",
          "execution_count": 18,
          "data": {
            "text/plain": [
              "array([[19, 22],\n",
              "       [43, 50]])"
            ]
          },
          "metadata": {}
        }
      ],
      "execution_count": 18,
      "metadata": {
        "collapsed": false,
        "outputHidden": false,
        "inputHidden": false
      }
    },
    {
      "cell_type": "markdown",
      "source": [
        "##  Dot product of vectors\n",
        "\nFinding the product of the summation of two vectors and the output will be a single vector."
      ],
      "metadata": {}
    },
    {
      "cell_type": "code",
      "source": [
        "x = np.array([[1,2],[3,4]])\n",
        "y = np.array([[5,6],[7,8]])\n",
        "dotproduct = sum(i*j for i,j in zip(x,y))\n",
        "\nprint('Dot product is : ' , dotproduct)"
      ],
      "outputs": [
        {
          "output_type": "stream",
          "name": "stdout",
          "text": [
            "Dot product is :  [26 44]\n"
          ]
        }
      ],
      "execution_count": 19,
      "metadata": {
        "collapsed": false,
        "outputHidden": false,
        "inputHidden": false
      }
    },
    {
      "cell_type": "code",
      "source": [
        "x = [1,2,3,4]\n",
        "y = [5,6,7,8]\n",
        "dotproduct = sum(i*j for i,j in zip(x,y))\n",
        "\nprint('Dot product is : ' , dotproduct)"
      ],
      "outputs": [
        {
          "output_type": "stream",
          "name": "stdout",
          "text": [
            "Dot product is :  70\n"
          ]
        }
      ],
      "execution_count": 20,
      "metadata": {
        "collapsed": false,
        "outputHidden": false,
        "inputHidden": false
      }
    },
    {
      "cell_type": "markdown",
      "source": [
        "## Inner Product"
      ],
      "metadata": {}
    },
    {
      "cell_type": "code",
      "source": [
        "x = np.array([[1,2],[3,4]])\n",
        "y = np.array([[5,6],[7,8]])\n",
        "\n",
        "ip = np.inner(x,y)\n",
        "print('Inner Product:\\n', ip)"
      ],
      "outputs": [
        {
          "output_type": "stream",
          "name": "stdout",
          "text": [
            "Inner Product:\n",
            " [[17 23]\n",
            " [39 53]]\n"
          ]
        }
      ],
      "execution_count": 21,
      "metadata": {
        "collapsed": false,
        "outputHidden": false,
        "inputHidden": false
      }
    }
  ],
  "metadata": {
    "kernel_info": {
      "name": "python3"
    },
    "kernelspec": {
      "name": "python3",
      "language": "python",
      "display_name": "Python 3"
    },
    "language_info": {
      "file_extension": ".py",
      "nbconvert_exporter": "python",
      "codemirror_mode": {
        "version": 3,
        "name": "ipython"
      },
      "pygments_lexer": "ipython3",
      "name": "python",
      "version": "3.5.5",
      "mimetype": "text/x-python"
    },
    "nteract": {
      "version": "0.12.2"
    }
  },
  "nbformat": 4,
  "nbformat_minor": 4
}