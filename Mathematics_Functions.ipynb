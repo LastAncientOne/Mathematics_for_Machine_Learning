{
  "cells": [
    {
      "cell_type": "markdown",
      "source": [
        "\n",
        "# Python for Mathematics Functions\n",
        "\nBy: Tin Hang"
      ],
      "metadata": {}
    },
    {
      "cell_type": "code",
      "source": [
        "# Function for additions\n",
        "def add(a,b):\n",
        "    add = a + b\n",
        "    return add\n",
        "\nadd(1,3)"
      ],
      "outputs": [
        {
          "output_type": "execute_result",
          "execution_count": 1,
          "data": {
            "text/plain": [
              "4"
            ]
          },
          "metadata": {}
        }
      ],
      "execution_count": 1,
      "metadata": {}
    },
    {
      "cell_type": "code",
      "source": [
        "def add(a,b):\n",
        "    #a = int(input(\"Enter a:\"))\n",
        "    #b = int(input(\"Enter b:\"))\n",
        "    add = a + b\n",
        "    print('%s + %s = %s' %(a,b,add))\n",
        "    print('{} + {} = {}'.format(a,b,add))\n",
        "    print(a,'+',b,'=',add)\n",
        "    return add\n",
        "\nadd(2,3)"
      ],
      "outputs": [
        {
          "output_type": "stream",
          "name": "stdout",
          "text": [
            "2 + 3 = 5\n",
            "2 + 3 = 5\n",
            "2 + 3 = 5\n"
          ]
        },
        {
          "output_type": "execute_result",
          "execution_count": 2,
          "data": {
            "text/plain": [
              "5"
            ]
          },
          "metadata": {}
        }
      ],
      "execution_count": 2,
      "metadata": {
        "collapsed": false,
        "outputHidden": false,
        "inputHidden": false
      }
    },
    {
      "cell_type": "code",
      "source": [
        "# Function for subtractions\n",
        "def subtraction(a,b):\n",
        "    minus = a - b\n",
        "    return minus\n",
        "\nsubtraction(5,3)"
      ],
      "outputs": [
        {
          "output_type": "execute_result",
          "execution_count": 3,
          "data": {
            "text/plain": [
              "2"
            ]
          },
          "metadata": {}
        }
      ],
      "execution_count": 3,
      "metadata": {
        "collapsed": false,
        "outputHidden": false,
        "inputHidden": false
      }
    },
    {
      "cell_type": "code",
      "source": [
        "# Functions for Multiplications\n",
        "def multiply(a,b):\n",
        "    times = a * b\n",
        "    return times\n",
        "\nmultiply(2,4)"
      ],
      "outputs": [
        {
          "output_type": "execute_result",
          "execution_count": 4,
          "data": {
            "text/plain": [
              "8"
            ]
          },
          "metadata": {}
        }
      ],
      "execution_count": 4,
      "metadata": {
        "collapsed": false,
        "outputHidden": false,
        "inputHidden": false
      }
    },
    {
      "cell_type": "code",
      "source": [
        "# Functions for Divisions\n",
        "def divide(a,b):\n",
        "    division = a / b\n",
        "    return division\n",
        "\ndivide(8,2)"
      ],
      "outputs": [
        {
          "output_type": "execute_result",
          "execution_count": 5,
          "data": {
            "text/plain": [
              "4.0"
            ]
          },
          "metadata": {}
        }
      ],
      "execution_count": 5,
      "metadata": {
        "collapsed": false,
        "outputHidden": false,
        "inputHidden": false
      }
    },
    {
      "cell_type": "code",
      "source": [
        "# Functions for Division with reminder\n",
        "def divide(a,b):\n",
        "    r = a%b\n",
        "    print(\"Reminder: %s\" % (r))\n",
        "    return r\n",
        "\ndivide(10,3)"
      ],
      "outputs": [
        {
          "output_type": "stream",
          "name": "stdout",
          "text": [
            "Reminder: 1\n"
          ]
        },
        {
          "output_type": "execute_result",
          "execution_count": 6,
          "data": {
            "text/plain": [
              "1"
            ]
          },
          "metadata": {}
        }
      ],
      "execution_count": 6,
      "metadata": {
        "collapsed": false,
        "outputHidden": false,
        "inputHidden": false
      }
    },
    {
      "cell_type": "code",
      "source": [
        "# Function Fractions\n",
        "from fractions import Fraction\n",
        "\n",
        "def addF(a,b,c,d):\n",
        "    addF = Fraction(a,b) + Fraction(c,d)\n",
        "    return addF\n",
        "\n",
        "def subF(a,b,c,d):\n",
        "    minusF = Fraction(a,b) - Fraction(c,d)\n",
        "    return minusF\n",
        "\n",
        "def multiF(a,b,c,d):\n",
        "    multiF = Fraction(a,b) * Fraction(c,d)\n",
        "    return multiF\n",
        "\n",
        "def divideF(a,b,c,d):\n",
        "    divideF = Fraction(a,b) / Fraction(c,d)\n",
        "    return divideF\n",
        "\n",
        "print(\"Addition Fractions:\", addF(1,2,1,3))\n",
        "print(\"Subtraction Fractions:\", subF(1,4,1,8))\n",
        "print(\"Multiplication Fractions:\", multiF(1,2,3,4))\n",
        "print(\"Division Fractions:\", divideF(7,8,1,3))"
      ],
      "outputs": [
        {
          "output_type": "stream",
          "name": "stdout",
          "text": [
            "Addition Fractions: 5/6\n",
            "Subtraction Fractions: 1/8\n",
            "Multiplication Fractions: 3/8\n",
            "Division Fractions: 21/8\n"
          ]
        }
      ],
      "execution_count": 7,
      "metadata": {
        "collapsed": false,
        "outputHidden": false,
        "inputHidden": false
      }
    },
    {
      "cell_type": "code",
      "source": [
        "# Function Area of Circle\n",
        "from math import pi\n",
        "def AC(r):\n",
        "    AC = pi * r ** 2\n",
        "    return AC\n",
        "\n",
        "# Function Circumference of Circle\n",
        "def CC(r):\n",
        "    CC = 2 * pi * r\n",
        "    return CC\n",
        "\n",
        "print(\"Area of Circle:\", AC(2))\n",
        "print(\"Circumference of Cirle:\", CC(3))"
      ],
      "outputs": [
        {
          "output_type": "stream",
          "name": "stdout",
          "text": [
            "Area of Circle: 12.566370614359172\n",
            "Circumference of Cirle: 18.84955592153876\n"
          ]
        }
      ],
      "execution_count": 8,
      "metadata": {
        "collapsed": false,
        "outputHidden": false,
        "inputHidden": false
      }
    },
    {
      "cell_type": "code",
      "source": [
        "# Area of Rectangle\n",
        "def AR(l, w):\n",
        "    AR = l * w \n",
        "    return AR\n",
        "\n",
        "# Perimeter of Rectangle\n",
        "def PR(l, w):\n",
        "    PR = 2*(l + w) \n",
        "    return PR\n",
        "\n",
        "print(\"Area of Rectangle:\", AR(2,6))\n",
        "print(\"Perimeter of Rectangle:\", PR(2,9))"
      ],
      "outputs": [
        {
          "output_type": "stream",
          "name": "stdout",
          "text": [
            "Area of Rectangle: 12\n",
            "Perimeter of Rectangle: 22\n"
          ]
        }
      ],
      "execution_count": 9,
      "metadata": {
        "collapsed": false,
        "outputHidden": false,
        "inputHidden": false
      }
    },
    {
      "cell_type": "code",
      "source": [
        "# Area of Triangle\n",
        "def AT(h, b):\n",
        "    AT = (h * b) / 2 \n",
        "    return AT\n",
        "\n",
        "# Perimeter of Triangle\n",
        "def PT(a, b, c):\n",
        "    PT = a + b + c \n",
        "    return PT\n",
        "\n",
        "print(\"Area of Triangle:\", AT(8,6))\n",
        "print(\"Perimeter of Triangle:\", PT(6,6,6))"
      ],
      "outputs": [
        {
          "output_type": "stream",
          "name": "stdout",
          "text": [
            "Area of Triangle: 24.0\n",
            "Perimeter of Triangle: 18\n"
          ]
        }
      ],
      "execution_count": 10,
      "metadata": {
        "collapsed": false,
        "outputHidden": false,
        "inputHidden": false
      }
    },
    {
      "cell_type": "code",
      "source": [
        "# Area of Trapezoid\n",
        "def ATR(a, b, h):\n",
        "    ATR = ((a + b) / 2) * h \n",
        "    return ATR\n",
        "\n",
        "# Perimeter of Trapezoid\n",
        "def PTR(a, b, c, d):\n",
        "    PTR = a + b + c \n",
        "    return PTR\n",
        "\n",
        "print(\"Area of Trapezoid:\", ATR(8,6,7))\n",
        "print(\"Perimeter of Trapezoid:\", PTR(6,10,7,8))"
      ],
      "outputs": [
        {
          "output_type": "stream",
          "name": "stdout",
          "text": [
            "Area of Trapezoid: 49.0\n",
            "Perimeter of Trapezoid: 23\n"
          ]
        }
      ],
      "execution_count": 11,
      "metadata": {
        "collapsed": false,
        "outputHidden": false,
        "inputHidden": false
      }
    },
    {
      "cell_type": "code",
      "source": [
        "from math import pi\n",
        "\n",
        "# Volume of Cylinder\n",
        "def VCY(r, h):\n",
        "    VCY = pi * r**2 * h \n",
        "    return VCY\n",
        "\nprint(\"Volume of Cylinder:\", VCY(2, 8))"
      ],
      "outputs": [
        {
          "output_type": "stream",
          "name": "stdout",
          "text": [
            "Volume of Cylinder: 100.53096491487338\n"
          ]
        }
      ],
      "execution_count": 12,
      "metadata": {
        "collapsed": false,
        "outputHidden": false,
        "inputHidden": false
      }
    },
    {
      "cell_type": "code",
      "source": [
        "# Volume of Sphere\n",
        "def VS(r):\n",
        "    VS = 4/3 * pi * r**3\n",
        "    return VS\n",
        "\nprint(\"Volume of Sphere:\", VS(3.2))"
      ],
      "outputs": [
        {
          "output_type": "stream",
          "name": "stdout",
          "text": [
            "Volume of Sphere: 137.25827743044047\n"
          ]
        }
      ],
      "execution_count": 13,
      "metadata": {
        "collapsed": false,
        "outputHidden": false,
        "inputHidden": false
      }
    },
    {
      "cell_type": "code",
      "source": [
        "# Volume of Cone\n",
        "def VC(r, h):\n",
        "    VC = (h/3) * pi * r**2\n",
        "    return VC\n",
        "\nprint(\"Volume of Cone:\", VC(2, 8))"
      ],
      "outputs": [
        {
          "output_type": "stream",
          "name": "stdout",
          "text": [
            "Volume of Cone: 33.510321638291124\n"
          ]
        }
      ],
      "execution_count": 14,
      "metadata": {
        "collapsed": false,
        "outputHidden": false,
        "inputHidden": false
      }
    },
    {
      "cell_type": "code",
      "source": [
        "# Volume of Pyramid\n",
        "def VP(l, w, h):\n",
        "    VP = (l*w*h) / 3\n",
        "    return VP\n",
        "\nprint(\"Volume of Pyramid:\", VP(4, 4, 5))"
      ],
      "outputs": [
        {
          "output_type": "stream",
          "name": "stdout",
          "text": [
            "Volume of Pyramid: 26.666666666666668\n"
          ]
        }
      ],
      "execution_count": 15,
      "metadata": {
        "collapsed": false,
        "outputHidden": false,
        "inputHidden": false
      }
    },
    {
      "cell_type": "code",
      "source": [
        "# Volume of Rectangle\n",
        "def VR(l, w, h):\n",
        "    VR = l*w*h\n",
        "    return VR\n",
        "\nprint(\"Volume of Rectangle:\", VR(4, 4, 5))"
      ],
      "outputs": [
        {
          "output_type": "stream",
          "name": "stdout",
          "text": [
            "Volume of Rectangle: 80\n"
          ]
        }
      ],
      "execution_count": 16,
      "metadata": {
        "collapsed": false,
        "outputHidden": false,
        "inputHidden": false
      }
    },
    {
      "cell_type": "code",
      "source": [
        "# Quadratic Formula\n",
        "# import complex math module\n",
        "import cmath\n",
        "\n",
        "a = 1\n",
        "b = 5\n",
        "c = 6\n",
        "\n",
        "# To take coefficient input from the users\n",
        "# a = float(input('Enter a: '))\n",
        "# b = float(input('Enter b: '))\n",
        "# c = float(input('Enter c: '))\n",
        "\n",
        "# calculate the discriminant\n",
        "d = (b**2) - (4*a*c)\n",
        "\n",
        "# find two solutions\n",
        "sol1 = (-b-cmath.sqrt(d))/(2*a)\n",
        "sol2 = (-b+cmath.sqrt(d))/(2*a)\n",
        "\nprint('The solution are {0} and {1}'.format(sol1,sol2))"
      ],
      "outputs": [
        {
          "output_type": "stream",
          "name": "stdout",
          "text": [
            "The solution are (-3+0j) and (-2+0j)\n"
          ]
        }
      ],
      "execution_count": 17,
      "metadata": {
        "collapsed": false,
        "outputHidden": false,
        "inputHidden": false
      }
    },
    {
      "cell_type": "code",
      "source": [
        "import math \n",
        "\n",
        "dp = \"%.2f\"\n",
        "\n",
        "def quadratic():\n",
        "\n",
        "\t# get the coefficients from the user\n",
        "\ta = float(input(\"Please enter coefficient a: \"))\n",
        "\tb = float(input(\"Please enter coefficient b: \"))\n",
        "\tc = float(input(\"Please enter coefficient c: \"))\n",
        "\n",
        "\tdiscRoot = math.sqrt((b * b) - 4 * a * c) # first pass\n",
        "\troot1 = (-b + discRoot) / (2 * a) # solving positive\n",
        "\troot2 = (-b - discRoot) / (2 * a) # solving negative\n",
        "\n",
        "\tprint()\n",
        "\tprint(\"The solutions are:\",  dp % root1, dp % root2)"
      ],
      "outputs": [],
      "execution_count": 18,
      "metadata": {
        "collapsed": false,
        "outputHidden": false,
        "inputHidden": false
      }
    },
    {
      "cell_type": "code",
      "source": [
        "def quadratic(a, b, c):\n",
        "    # the discriminant\n",
        "    d = (b**2) - (4 * a * c)\n",
        "\n",
        "    # find both solutions\n",
        "    s1 = (-b + math.sqrt(d)) / (2 * a)\n",
        "    s2 = (-b - math.sqrt(d)) / (2 * a)\n",
        "\n    print(\"Solution is {0}, {1}\".format(s1, s2))"
      ],
      "outputs": [],
      "execution_count": 19,
      "metadata": {
        "collapsed": false,
        "outputHidden": false,
        "inputHidden": false
      }
    }
  ],
  "metadata": {
    "kernelspec": {
      "name": "python3",
      "language": "python",
      "display_name": "Python 3"
    },
    "kernel_info": {
      "name": "python3"
    },
    "language_info": {
      "codemirror_mode": {
        "version": 3,
        "name": "ipython"
      },
      "mimetype": "text/x-python",
      "pygments_lexer": "ipython3",
      "version": "3.5.5",
      "file_extension": ".py",
      "name": "python",
      "nbconvert_exporter": "python"
    },
    "nteract": {
      "version": "0.12.2"
    }
  },
  "nbformat": 4,
  "nbformat_minor": 4
}