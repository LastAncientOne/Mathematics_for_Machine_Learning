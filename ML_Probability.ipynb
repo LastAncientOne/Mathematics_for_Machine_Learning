{
  "cells": [
    {
      "cell_type": "markdown",
      "source": [
        "# Machine Learning Probability"
      ],
      "metadata": {}
    },
    {
      "cell_type": "markdown",
      "source": [
        "Understanding Probability "
      ],
      "metadata": {}
    },
    {
      "cell_type": "code",
      "source": [
        "import numpy as np\n",
        "\n",
        "def P1_win_prob_weighted_coin_game(num_games, prob_heads=.5): \n",
        "  player_one_wins = 0 \n",
        "  for n in range(0,num_games): \n",
        "    num_flips = 0 \n",
        "    win = 0\n",
        "    while win == 0: \n",
        "      turn = np.random.uniform(0,1) \n",
        "      num_flips += 1 \n",
        "      if turn <= prob_heads: \n",
        "        if num_flips % 2 != 0: \n",
        "          player_one_wins += 1 \n",
        "        win += 1 \n",
        "  return float(player_one_wins)/float(num_games)\n",
        "\nP1_win_prob_weighted_coin_game(50, prob_heads=.5)"
      ],
      "outputs": [
        {
          "output_type": "execute_result",
          "execution_count": 1,
          "data": {
            "text/plain": [
              "0.52"
            ]
          },
          "metadata": {}
        }
      ],
      "execution_count": 1,
      "metadata": {
        "collapsed": false,
        "outputHidden": false,
        "inputHidden": false
      }
    },
    {
      "cell_type": "code",
      "source": [
        "import random\n",
        "\n",
        "def flip(p): # p for probability\n",
        "    return 'H' if random.random() < p else 'T'\n",
        "\n",
        "N = 100\n",
        "flips = [flip(0.2) for i in range(N)]\n",
        "float(flips.count('T'))/N"
      ],
      "outputs": [
        {
          "output_type": "execute_result",
          "execution_count": 2,
          "data": {
            "text/plain": [
              "0.84"
            ]
          },
          "metadata": {}
        }
      ],
      "execution_count": 2,
      "metadata": {
        "collapsed": false,
        "outputHidden": false,
        "inputHidden": false
      }
    },
    {
      "cell_type": "code",
      "source": [
        "def coin_flip(p): # p for probability \n",
        "    if random.random() < p:\n",
        "        return 'H'\n",
        "    else:\n",
        "        return 'T'\n",
        "\nflip(0.9)"
      ],
      "outputs": [
        {
          "output_type": "execute_result",
          "execution_count": 3,
          "data": {
            "text/plain": [
              "'H'"
            ]
          },
          "metadata": {}
        }
      ],
      "execution_count": 3,
      "metadata": {
        "collapsed": false,
        "outputHidden": false,
        "inputHidden": false
      }
    },
    {
      "cell_type": "code",
      "source": [
        "def flip():\n",
        "    toss = random.randint(0,1)\n",
        "    if toss == 0:\n",
        "        print('Heads')\n",
        "    else:\n",
        "        print('Tails')\n",
        "    return\n",
        "\nflip()"
      ],
      "outputs": [
        {
          "output_type": "stream",
          "name": "stdout",
          "text": [
            "Tails\n"
          ]
        }
      ],
      "execution_count": 4,
      "metadata": {
        "collapsed": false,
        "outputHidden": false,
        "inputHidden": false
      }
    },
    {
      "cell_type": "code",
      "source": [
        "# Simple 52 cards of class\n",
        "# 52 Cards\n",
        "class Card:\n",
        "    def __init__(self, value, color, shape):\n",
        "        self.value = value\n",
        "        self.color = color\n",
        "        self.shape = shape\n",
        "\n",
        "value = ['2', '3', '4', '5', '6', '7', '8', '9', '10', 'J', 'Q', 'K', 'A']\n",
        "color = ['Black', 'Red']    \n",
        "shape = ['Heart', 'Diamonds', 'Spades', 'Clubs']\n",
        "\n",
        "deck = [Card(value, color, shape) for value in range(1, 13) for colors in color for shapes in shape]\n"
      ],
      "outputs": [],
      "execution_count": 5,
      "metadata": {
        "collapsed": false,
        "outputHidden": false,
        "inputHidden": false
      }
    },
    {
      "cell_type": "code",
      "source": [
        "# Library\n",
        "import numpy as np\n",
        "import pandas as pd\n",
        "from numpy import mean, median, std, var, cov, corrcoef\n",
        "from scipy.stats import kurtosis, skew\n",
        "from scipy.stats import mode\n",
        "from scipy import stats\n",
        "import matplotlib.pyplot as plt\n",
        "import random"
      ],
      "outputs": [],
      "execution_count": 6,
      "metadata": {
        "collapsed": false,
        "outputHidden": false,
        "inputHidden": false
      }
    },
    {
      "cell_type": "code",
      "source": [
        "samples = [8, 22, 11, 2, 6, 3, 14, 99, 44, 77, 31, 100, 44, 8, 23, 55, 88, 66, 7, 20, 8]"
      ],
      "outputs": [],
      "execution_count": 7,
      "metadata": {
        "collapsed": false,
        "outputHidden": false,
        "inputHidden": false
      }
    },
    {
      "cell_type": "code",
      "source": [
        "sorted(samples)"
      ],
      "outputs": [
        {
          "output_type": "execute_result",
          "execution_count": 8,
          "data": {
            "text/plain": [
              "[2, 3, 6, 7, 8, 8, 8, 11, 14, 20, 22, 23, 31, 44, 44, 55, 66, 77, 88, 99, 100]"
            ]
          },
          "metadata": {}
        }
      ],
      "execution_count": 8,
      "metadata": {
        "collapsed": false,
        "outputHidden": false,
        "inputHidden": false
      }
    },
    {
      "cell_type": "code",
      "source": [
        "len(samples)"
      ],
      "outputs": [
        {
          "output_type": "execute_result",
          "execution_count": 9,
          "data": {
            "text/plain": [
              "21"
            ]
          },
          "metadata": {}
        }
      ],
      "execution_count": 9,
      "metadata": {
        "collapsed": false,
        "outputHidden": false,
        "inputHidden": false
      }
    },
    {
      "cell_type": "code",
      "source": [
        "# Statistics \n",
        "# convert list to dataframe\n",
        "df = pd.DataFrame(samples) \n",
        "df.describe()"
      ],
      "outputs": [
        {
          "output_type": "execute_result",
          "execution_count": 10,
          "data": {
            "text/html": [
              "<div>\n",
              "<style scoped>\n",
              "    .dataframe tbody tr th:only-of-type {\n",
              "        vertical-align: middle;\n",
              "    }\n",
              "\n",
              "    .dataframe tbody tr th {\n",
              "        vertical-align: top;\n",
              "    }\n",
              "\n",
              "    .dataframe thead th {\n",
              "        text-align: right;\n",
              "    }\n",
              "</style>\n",
              "<table border=\"1\" class=\"dataframe\">\n",
              "  <thead>\n",
              "    <tr style=\"text-align: right;\">\n",
              "      <th></th>\n",
              "      <th>0</th>\n",
              "    </tr>\n",
              "  </thead>\n",
              "  <tbody>\n",
              "    <tr>\n",
              "      <th>count</th>\n",
              "      <td>21.000000</td>\n",
              "    </tr>\n",
              "    <tr>\n",
              "      <th>mean</th>\n",
              "      <td>35.047619</td>\n",
              "    </tr>\n",
              "    <tr>\n",
              "      <th>std</th>\n",
              "      <td>33.100568</td>\n",
              "    </tr>\n",
              "    <tr>\n",
              "      <th>min</th>\n",
              "      <td>2.000000</td>\n",
              "    </tr>\n",
              "    <tr>\n",
              "      <th>25%</th>\n",
              "      <td>8.000000</td>\n",
              "    </tr>\n",
              "    <tr>\n",
              "      <th>50%</th>\n",
              "      <td>22.000000</td>\n",
              "    </tr>\n",
              "    <tr>\n",
              "      <th>75%</th>\n",
              "      <td>55.000000</td>\n",
              "    </tr>\n",
              "    <tr>\n",
              "      <th>max</th>\n",
              "      <td>100.000000</td>\n",
              "    </tr>\n",
              "  </tbody>\n",
              "</table>\n",
              "</div>"
            ],
            "text/plain": [
              "                0\n",
              "count   21.000000\n",
              "mean    35.047619\n",
              "std     33.100568\n",
              "min      2.000000\n",
              "25%      8.000000\n",
              "50%     22.000000\n",
              "75%     55.000000\n",
              "max    100.000000"
            ]
          },
          "metadata": {}
        }
      ],
      "execution_count": 10,
      "metadata": {
        "collapsed": false,
        "outputHidden": false,
        "inputHidden": false
      }
    },
    {
      "cell_type": "code",
      "source": [
        "# Mode, Median, Mean\n",
        "# Mode is the most frequently occuring number\n",
        "# Median is the middle number of the order\n",
        "# Mean is the sum of the numbers divided by the length of the list\n",
        "print('Mode: {}'.format(mode(samples)))\n",
        "print('Median: {}'.format(median(samples)))\n",
        "print('Mean: {}'.format(round(mean(samples),2)))"
      ],
      "outputs": [
        {
          "output_type": "stream",
          "name": "stdout",
          "text": [
            "Mode: ModeResult(mode=array([8]), count=array([3]))\n",
            "Median: 22.0\n",
            "Mean: 35.05\n"
          ]
        }
      ],
      "execution_count": 11,
      "metadata": {
        "collapsed": false,
        "outputHidden": false,
        "inputHidden": false
      }
    },
    {
      "cell_type": "code",
      "source": [
        "# Variance\n",
        "# Numeric value used to describe how widely the numbers distribution vary\n",
        "print('Variance: {}'.format(round(np.var(samples),2)))"
      ],
      "outputs": [
        {
          "output_type": "stream",
          "name": "stdout",
          "text": [
            "Variance: 1043.47\n"
          ]
        }
      ],
      "execution_count": 12,
      "metadata": {
        "collapsed": false,
        "outputHidden": false,
        "inputHidden": false
      }
    },
    {
      "cell_type": "code",
      "source": [
        "# Standard Deviation \n",
        "# The square root of the variance\n",
        "print('Standard Deviation: {}'.format(round(np.std(samples),2)))"
      ],
      "outputs": [
        {
          "output_type": "stream",
          "name": "stdout",
          "text": [
            "Standard Deviation: 32.3\n"
          ]
        }
      ],
      "execution_count": 13,
      "metadata": {
        "collapsed": false,
        "outputHidden": false,
        "inputHidden": false
      }
    },
    {
      "cell_type": "code",
      "source": [
        "# Standard Error\n",
        "print('Standard Error with first axis:')\n",
        "print(stats.sem(samples))\n",
        "print('Standard Error with Degrees of freedom:')\n",
        "print(stats.sem(samples, axis=None, ddof=0))"
      ],
      "outputs": [
        {
          "output_type": "stream",
          "name": "stdout",
          "text": [
            "Standard Error with first axis:\n",
            "7.22313617102\n",
            "Standard Error with Degrees of freedom:\n",
            "7.04905911622\n"
          ]
        }
      ],
      "execution_count": 14,
      "metadata": {
        "collapsed": false,
        "outputHidden": false,
        "inputHidden": false
      }
    },
    {
      "cell_type": "code",
      "source": [
        "# Skewness and Kurtosis\n",
        "print('Skewness: {}'.format(round(kurtosis(samples),6)))\n",
        "print('Kurtosis: {}'.format(round(skew(samples),6)))"
      ],
      "outputs": [
        {
          "output_type": "stream",
          "name": "stdout",
          "text": [
            "Skewness: -0.708744\n",
            "Kurtosis: 0.835358\n"
          ]
        }
      ],
      "execution_count": 15,
      "metadata": {
        "collapsed": false,
        "outputHidden": false,
        "inputHidden": false
      }
    },
    {
      "cell_type": "code",
      "source": [
        "# Covariance\n",
        "# 2x2\n",
        "X = np.array([[2, 8], [4,6]])\n",
        "print(\"Covariance:\")\n",
        "print(np.cov(X))"
      ],
      "outputs": [
        {
          "output_type": "stream",
          "name": "stdout",
          "text": [
            "Covariance:\n",
            "[[ 18.   6.]\n",
            " [  6.   2.]]\n"
          ]
        }
      ],
      "execution_count": 16,
      "metadata": {
        "collapsed": false,
        "outputHidden": false,
        "inputHidden": false
      }
    },
    {
      "cell_type": "code",
      "source": [
        "# Diagonal elements\n",
        "print(np.var(X, axis=1, ddof=1)) # N-1 degree of freedom"
      ],
      "outputs": [
        {
          "output_type": "stream",
          "name": "stdout",
          "text": [
            "[ 18.   2.]\n"
          ]
        }
      ],
      "execution_count": 17,
      "metadata": {
        "collapsed": false,
        "outputHidden": false,
        "inputHidden": false
      }
    },
    {
      "cell_type": "code",
      "source": [
        "# Correlation Coefficient\n",
        "x = np.array([[3, 8], [2,7]])\n",
        "y = np.array([[6, 8], [14,12]])\n",
        "print(\"Correlation Coefficient:\")\n",
        "print(np.corrcoef(x, y))"
      ],
      "outputs": [
        {
          "output_type": "stream",
          "name": "stdout",
          "text": [
            "Correlation Coefficient:\n",
            "[[ 1.  1.  1. -1.]\n",
            " [ 1.  1.  1. -1.]\n",
            " [ 1.  1.  1. -1.]\n",
            " [-1. -1. -1.  1.]]\n"
          ]
        }
      ],
      "execution_count": 18,
      "metadata": {
        "collapsed": false,
        "outputHidden": false,
        "inputHidden": false
      }
    },
    {
      "cell_type": "code",
      "source": [
        "n = [2, 69, 78, 2, 24, 3, 16, 99, 21, 25, 31, 100, 2, 4, 23, 56, 225, 64, 6, 19]\n",
        "n = sorted(n)\n",
        "range = n[-1] - n[0]\n",
        "\n",
        "print(\"mean:\",mean(n))\n",
        "print(\"median:\",median(n))\n",
        "print(\"mode:\",mode(n)[0])\n",
        "print(\"range:\",range)\n",
        "print(\"std:\", std(n))\n",
        "print(\"var:\", var(n))\n",
        "print(\"Negative skew: mean < median < mode\")\n",
        "print(\"Positive skew: mode < median < mean\")"
      ],
      "outputs": [
        {
          "output_type": "stream",
          "name": "stdout",
          "text": [
            "mean: 43.45\n",
            "median: 23.5\n",
            "mode: [2]\n",
            "range: 223\n",
            "std: 52.2335859386\n",
            "var: 2728.3475\n",
            "Negative skew: mean < median < mode\n",
            "Positive skew: mode < median < mean\n"
          ]
        }
      ],
      "execution_count": 19,
      "metadata": {
        "collapsed": false,
        "outputHidden": false,
        "inputHidden": false
      }
    },
    {
      "cell_type": "markdown",
      "source": [
        "# Probability Distributions"
      ],
      "metadata": {}
    },
    {
      "cell_type": "markdown",
      "source": [
        "Uniform Distribution"
      ],
      "metadata": {}
    },
    {
      "cell_type": "code",
      "source": [
        "s = np.random.uniform(-1,0,1000)\n",
        "s"
      ],
      "outputs": [
        {
          "output_type": "execute_result",
          "execution_count": 20,
          "data": {
            "text/plain": [
              "array([-0.41578025, -0.61374558, -0.75922468, -0.88297531, -0.78360309,\n",
              "       -0.94184362, -0.97820378, -0.44493557, -0.51560485, -0.6219762 ,\n",
              "       -0.7352949 , -0.57023561, -0.52132866, -0.68013107, -0.84036425,\n",
              "       -0.77827933, -0.00430933, -0.42904777, -0.32752206, -0.68329582,\n",
              "       -0.0799335 , -0.80417075, -0.60709341, -0.03293452, -0.69104945,\n",
              "       -0.33020035, -0.04341611, -0.42222185, -0.64957873, -0.94716461,\n",
              "       -0.57833222, -0.01340972, -0.36668767, -0.68399738, -0.19883179,\n",
              "       -0.60620804, -0.1778494 , -0.05564482, -0.02178811, -0.13487289,\n",
              "       -0.39361164, -0.02135098, -0.79272488, -0.59671515, -0.82720423,\n",
              "       -0.70099259, -0.1096216 , -0.98445498, -0.74215742, -0.76058273,\n",
              "       -0.29301625, -0.11161005, -0.48129555, -0.31931465, -0.34479385,\n",
              "       -0.96135717, -0.9343455 , -0.86960088, -0.0220046 , -0.95000546,\n",
              "       -0.20659024, -0.30740344, -0.22125661, -0.13098213, -0.72014202,\n",
              "       -0.22361692, -0.84592456, -0.05058615, -0.3455576 , -0.46239842,\n",
              "       -0.7184056 , -0.77973895, -0.35287059, -0.13255893, -0.37441765,\n",
              "       -0.9307513 , -0.2927454 , -0.26884287, -0.42677565, -0.64475228,\n",
              "       -0.57603019, -0.45879937, -0.75780469, -0.46965387, -0.2362616 ,\n",
              "       -0.52268868, -0.1179776 , -0.31892031, -0.3228403 , -0.92922091,\n",
              "       -0.61567606, -0.09411299, -0.17442831, -0.85685173, -0.82683982,\n",
              "       -0.7189731 , -0.1670325 , -0.75441365, -0.59994011, -0.62367717,\n",
              "       -0.36652966, -0.29279648, -0.38573284, -0.80767621, -0.68815925,\n",
              "       -0.63086681, -0.54639633, -0.15762374, -0.35678128, -0.71344154,\n",
              "       -0.31014702, -0.66037352, -0.17483628, -0.22871459, -0.29440772,\n",
              "       -0.92981476, -0.09305393, -0.92861557, -0.38552717, -0.44090837,\n",
              "       -0.47102798, -0.58224211, -0.52651907, -0.8175911 , -0.36876489,\n",
              "       -0.38387194, -0.42774252, -0.26499228, -0.60800579, -0.70329105,\n",
              "       -0.10065157, -0.3638692 , -0.6392418 , -0.34429089, -0.15115274,\n",
              "       -0.75025308, -0.51002737, -0.16355354, -0.03685824, -0.86357922,\n",
              "       -0.46878703, -0.22873775, -0.64020585, -0.17297979, -0.35003371,\n",
              "       -0.46893688, -0.70797242, -0.26041129, -0.44193281, -0.1654657 ,\n",
              "       -0.08389035, -0.57827742, -0.18649687, -0.63929549, -0.90871198,\n",
              "       -0.09606862, -0.88151064, -0.15423699, -0.43094929, -0.62523865,\n",
              "       -0.89117588, -0.30399866, -0.88597942, -0.49568822, -0.54568377,\n",
              "       -0.96086129, -0.45720281, -0.7317262 , -0.11876264, -0.82058583,\n",
              "       -0.9095975 , -0.65397662, -0.41265426, -0.2031593 , -0.36785035,\n",
              "       -0.93468287, -0.92988776, -0.17699857, -0.32521839, -0.82677403,\n",
              "       -0.62802377, -0.59062286, -0.18075029, -0.83473101, -0.13981361,\n",
              "       -0.07738009, -0.87525289, -0.01298733, -0.84495814, -0.7076854 ,\n",
              "       -0.5673242 , -0.42473858, -0.69981099, -0.17323341, -0.55239224,\n",
              "       -0.00813064, -0.87728796, -0.22158828, -0.20182744, -0.7425593 ,\n",
              "       -0.65759088, -0.59010651, -0.32985336, -0.9264881 , -0.27439593,\n",
              "       -0.96162657, -0.32388546, -0.240847  , -0.63700124, -0.46103523,\n",
              "       -0.14177427, -0.87432923, -0.34325985, -0.7602909 , -0.30563057,\n",
              "       -0.75638532, -0.55723745, -0.31558208, -0.00749195, -0.72130463,\n",
              "       -0.95927785, -0.61060506, -0.38061546, -0.42030273, -0.97934126,\n",
              "       -0.82357078, -0.9102244 , -0.06868281, -0.4295916 , -0.04285129,\n",
              "       -0.83830125, -0.0745931 , -0.71814164, -0.39194381, -0.4151048 ,\n",
              "       -0.45714127, -0.42235409, -0.09209223, -0.5105109 , -0.06022502,\n",
              "       -0.11901768, -0.61652337, -0.15499321, -0.63283585, -0.48956455,\n",
              "       -0.75375506, -0.16993104, -0.32956891, -0.43895996, -0.93056892,\n",
              "       -0.05706803, -0.21267326, -0.99819859, -0.55051529, -0.08586921,\n",
              "       -0.81272614, -0.26431939, -0.57324216, -0.90752616, -0.060436  ,\n",
              "       -0.27693099, -0.47539836, -0.05031803, -0.1803839 , -0.01796805,\n",
              "       -0.55784739, -0.99911491, -0.67839432, -0.7591997 , -0.62970339,\n",
              "       -0.6488856 , -0.62767047, -0.14062457, -0.05464797, -0.23107761,\n",
              "       -0.53159215, -0.06983409, -0.420059  , -0.22695509, -0.93030551,\n",
              "       -0.04170992, -0.14858455, -0.92634119, -0.48203613, -0.1543665 ,\n",
              "       -0.44530587, -0.54160633, -0.76501585, -0.65679274, -0.7756837 ,\n",
              "       -0.61766143, -0.12038081, -0.92748428, -0.1764147 , -0.39647477,\n",
              "       -0.61240645, -0.93134017, -0.25225957, -0.1636752 , -0.05273717,\n",
              "       -0.90315538, -0.77027134, -0.15725507, -0.39037255, -0.42159633,\n",
              "       -0.34032957, -0.7230071 , -0.67697886, -0.34982063, -0.57816191,\n",
              "       -0.09693998, -0.27997128, -0.9099354 , -0.58473949, -0.37138877,\n",
              "       -0.859893  , -0.77266674, -0.24782371, -0.57437219, -0.53820397,\n",
              "       -0.13023712, -0.1069509 , -0.80813138, -0.7975912 , -0.01096781,\n",
              "       -0.13700753, -0.63071451, -0.93492522, -0.93761843, -0.34705301,\n",
              "       -0.52852858, -0.32144131, -0.79057206, -0.08924473, -0.66838279,\n",
              "       -0.77382437, -0.02491001, -0.59100511, -0.87120704, -0.39490942,\n",
              "       -0.81286504, -0.6433059 , -0.26962315, -0.84032977, -0.9806618 ,\n",
              "       -0.43752638, -0.39284   , -0.44339505, -0.81186655, -0.49202024,\n",
              "       -0.47558813, -0.2454098 , -0.11448052, -0.69983998, -0.633762  ,\n",
              "       -0.44198025, -0.85473165, -0.33406312, -0.29668819, -0.46367602,\n",
              "       -0.54164034, -0.24570799, -0.11954915, -0.53376349, -0.00199476,\n",
              "       -0.07955178, -0.29412303, -0.56411083, -0.70321358, -0.2615129 ,\n",
              "       -0.73948954, -0.00504067, -0.35178888, -0.59648345, -0.07585968,\n",
              "       -0.75934169, -0.41973206, -0.95054386, -0.69074991, -0.00826368,\n",
              "       -0.33668231, -0.83350321, -0.66087176, -0.46317077, -0.73388712,\n",
              "       -0.04689255, -0.47097137, -0.11440674, -0.71993276, -0.85218628,\n",
              "       -0.77585306, -0.73944091, -0.47135249, -0.00269932, -0.47586942,\n",
              "       -0.28889169, -0.80028062, -0.7267047 , -0.35822857, -0.3437264 ,\n",
              "       -0.74135036, -0.45108045, -0.74962558, -0.87038806, -0.98069867,\n",
              "       -0.64524627, -0.35644567, -0.89106542, -0.59069025, -0.59477296,\n",
              "       -0.10917522, -0.99598461, -0.81976017, -0.55330875, -0.48973362,\n",
              "       -0.01023487, -0.19457868, -0.75717941, -0.26753518, -0.21605367,\n",
              "       -0.77464522, -0.0686905 , -0.38402261, -0.42647531, -0.33349382,\n",
              "       -0.34547066, -0.34388397, -0.59329509, -0.66990739, -0.49264108,\n",
              "       -0.79901454, -0.27149026, -0.34952898, -0.04805799, -0.24805105,\n",
              "       -0.09092897, -0.17286857, -0.22569545, -0.88246664, -0.11350877,\n",
              "       -0.29217211, -0.98922974, -0.56963436, -0.90650033, -0.66788487,\n",
              "       -0.78419422, -0.07176729, -0.48435184, -0.0062835 , -0.3715466 ,\n",
              "       -0.25982108, -0.68396769, -0.83634091, -0.43168337, -0.94338806,\n",
              "       -0.91084302, -0.76849339, -0.10587535, -0.78162923, -0.29593666,\n",
              "       -0.99412341, -0.48963323, -0.24076661, -0.90163749, -0.19399671,\n",
              "       -0.65313807, -0.36360833, -0.59688185, -0.06085403, -0.83389646,\n",
              "       -0.50436176, -0.09858749, -0.81910641, -0.90885963, -0.17834998,\n",
              "       -0.81463232, -0.70597952, -0.94715376, -0.71002307, -0.87844632,\n",
              "       -0.06761145, -0.82563739, -0.15259831, -0.48571921, -0.28018472,\n",
              "       -0.73831107, -0.13404111, -0.9150777 , -0.51270821, -0.40735672,\n",
              "       -0.69671194, -0.18960808, -0.2546675 , -0.14205627, -0.29638729,\n",
              "       -0.3401529 , -0.5543964 , -0.56912368, -0.67170041, -0.80534179,\n",
              "       -0.07624884, -0.93978821, -0.35028919, -0.91593757, -0.23160111,\n",
              "       -0.56596268, -0.60893244, -0.66953929, -0.07319529, -0.12896392,\n",
              "       -0.0491774 , -0.70093664, -0.38991686, -0.42027569, -0.63943369,\n",
              "       -0.75444587, -0.39553445, -0.51602483, -0.35000328, -0.45145845,\n",
              "       -0.96521708, -0.07198838, -0.41843012, -0.99373155, -0.89449336,\n",
              "       -0.95866889, -0.9055617 , -0.72389121, -0.79012423, -0.9025967 ,\n",
              "       -0.16333774, -0.60094587, -0.37760012, -0.04055098, -0.77951331,\n",
              "       -0.63937669, -0.64942453, -0.96729655, -0.65567679, -0.46617681,\n",
              "       -0.56080756, -0.34184494, -0.49270752, -0.15228927, -0.80670676,\n",
              "       -0.57970456, -0.9387581 , -0.50966079, -0.76616906, -0.46062539,\n",
              "       -0.69155645, -0.68745808, -0.20550561, -0.82389683, -0.88822459,\n",
              "       -0.2069826 , -0.39055423, -0.05269651, -0.12010452, -0.69592076,\n",
              "       -0.28829137, -0.99406376, -0.47607395, -0.60235016, -0.13811782,\n",
              "       -0.69922914, -0.63514819, -0.44298649, -0.32428152, -0.91907553,\n",
              "       -0.91517903, -0.39591939, -0.51688846, -0.06821448, -0.06337276,\n",
              "       -0.308898  , -0.70513378, -0.28365309, -0.79378251, -0.50189751,\n",
              "       -0.23081047, -0.40212499, -0.10004652, -0.99892397, -0.77702988,\n",
              "       -0.76121684, -0.79465512, -0.46795876, -0.92140819, -0.14435631,\n",
              "       -0.23956859, -0.84068969, -0.56777691, -0.66220022, -0.58566513,\n",
              "       -0.68969433, -0.59328523, -0.39118144, -0.8439322 , -0.35437261,\n",
              "       -0.78596297, -0.3859687 , -0.9069391 , -0.50124595, -0.25939466,\n",
              "       -0.03040267, -0.18434345, -0.16095273, -0.50838596, -0.33673796,\n",
              "       -0.56510135, -0.96856379, -0.24870762, -0.25047997, -0.49109216,\n",
              "       -0.10784503, -0.92102206, -0.72057431, -0.75583266, -0.77152961,\n",
              "       -0.02174826, -0.73660484, -0.63887545, -0.89557934, -0.74549359,\n",
              "       -0.72712589, -0.77327037, -0.55416518, -0.54562991, -0.24759312,\n",
              "       -0.68634611, -0.30937008, -0.67732689, -0.02862134, -0.98519994,\n",
              "       -0.68914606, -0.02322105, -0.06202404, -0.49960748, -0.44110508,\n",
              "       -0.47572579, -0.16657735, -0.75182471, -0.8260666 , -0.16138912,\n",
              "       -0.77504657, -0.31327022, -0.80787625, -0.63779058, -0.41614792,\n",
              "       -0.93528472, -0.25579954, -0.1338216 , -0.10280407, -0.80638344,\n",
              "       -0.63914422, -0.88874791, -0.92585594, -0.17531764, -0.58020922,\n",
              "       -0.25637537, -0.14328502, -0.43580867, -0.15971166, -0.03994391,\n",
              "       -0.29299671, -0.85183985, -0.45368365, -0.90343663, -0.3917395 ,\n",
              "       -0.18486383, -0.91725039, -0.05712314, -0.08551241, -0.03331944,\n",
              "       -0.41618542, -0.31626116, -0.98266547, -0.2323946 , -0.48838254,\n",
              "       -0.50558603, -0.72137104, -0.40983882, -0.0071357 , -0.11722453,\n",
              "       -0.39521597, -0.5387926 , -0.80503686, -0.37859463, -0.41643054,\n",
              "       -0.59137474, -0.81620156, -0.40644827, -0.6353721 , -0.45962961,\n",
              "       -0.8721326 , -0.82267778, -0.08941185, -0.58313966, -0.67413808,\n",
              "       -0.12519009, -0.81473994, -0.47059923, -0.02157067, -0.93317361,\n",
              "       -0.13853927, -0.44632828, -0.28086669, -0.34082959, -0.13885826,\n",
              "       -0.80578611, -0.9837855 , -0.73537489, -0.84989413, -0.78152587,\n",
              "       -0.90862508, -0.69145423, -0.22683871, -0.58120515, -0.35323567,\n",
              "       -0.34035737, -0.42274515, -0.12992362, -0.5053823 , -0.94748081,\n",
              "       -0.57246746, -0.13628185, -0.70756547, -0.80911322, -0.85533508,\n",
              "       -0.23626578, -0.46797284, -0.69683159, -0.92221688, -0.25757943,\n",
              "       -0.74574885, -0.0969914 , -0.56339838, -0.55970746, -0.71536053,\n",
              "       -0.81744932, -0.30248413, -0.88981957, -0.90050026, -0.42468673,\n",
              "       -0.59887678, -0.0239991 , -0.7460865 , -0.49651923, -0.24003445,\n",
              "       -0.71046715, -0.56231592, -0.29622578, -0.23527777, -0.24482888,\n",
              "       -0.92193213, -0.44838059, -0.56857573, -0.07662915, -0.74225828,\n",
              "       -0.82957736, -0.13027376, -0.16317911, -0.65593859, -0.53501375,\n",
              "       -0.1517804 , -0.50621483, -0.00584639, -0.94631545, -0.60158831,\n",
              "       -0.340367  , -0.0332892 , -0.8976488 , -0.27756651, -0.90256485,\n",
              "       -0.16938316, -0.41284721, -0.51583474, -0.89042306, -0.48633376,\n",
              "       -0.71540258, -0.75049472, -0.8716347 , -0.87406602, -0.50172039,\n",
              "       -0.55077772, -0.48912574, -0.30985852, -0.30107876, -0.8725051 ,\n",
              "       -0.43051912, -0.96829168, -0.79153036, -0.18074109, -0.18092998,\n",
              "       -0.85641024, -0.21270905, -0.38643142, -0.27232142, -0.33574816,\n",
              "       -0.5314743 , -0.05597589, -0.58917852, -0.04623735, -0.82357364,\n",
              "       -0.89856405, -0.07337006, -0.07188322, -0.35976525, -0.05954569,\n",
              "       -0.40519641, -0.64984604, -0.19711563, -0.80900527, -0.52459138,\n",
              "       -0.69314425, -0.35510167, -0.75369125, -0.69970896, -0.7389115 ,\n",
              "       -0.73213707, -0.85573078, -0.92407925, -0.92430137, -0.93423658,\n",
              "       -0.09284955, -0.79566484, -0.63072344, -0.89574597, -0.60985619,\n",
              "       -0.52293843, -0.07918915, -0.08501091, -0.57535039, -0.4230885 ,\n",
              "       -0.63863943, -0.59802563, -0.86006057, -0.75310393, -0.54193169,\n",
              "       -0.12813023, -0.01704255, -0.90863408, -0.48695115, -0.5775421 ,\n",
              "       -0.85601553, -0.2382218 , -0.17594882, -0.1572351 , -0.77503163,\n",
              "       -0.59964781, -0.89063947, -0.32877553, -0.29235346, -0.70695996,\n",
              "       -0.37121139, -0.9326223 , -0.84097035, -0.7938635 , -0.32661146,\n",
              "       -0.21826729, -0.39396604, -0.84571682, -0.12487543, -0.95323954,\n",
              "       -0.62632351, -0.15755964, -0.8386254 , -0.22848867, -0.68429725,\n",
              "       -0.68700122, -0.51816461, -0.86766409, -0.3578037 , -0.62521327,\n",
              "       -0.2297638 , -0.63337049, -0.230396  , -0.46351415, -0.34445757,\n",
              "       -0.6332508 , -0.38176854, -0.58125216, -0.11086056, -0.69674284,\n",
              "       -0.54489458, -0.75316369, -0.50382072, -0.4525829 , -0.2357315 ,\n",
              "       -0.44271003, -0.92780287, -0.2123215 , -0.48218906, -0.92365424,\n",
              "       -0.819031  , -0.66761442, -0.39808892, -0.64244964, -0.33052485,\n",
              "       -0.12292802, -0.10570587, -0.65844484, -0.41746474, -0.8545494 ,\n",
              "       -0.18728141, -0.98935775, -0.51913465, -0.83865061, -0.42216021,\n",
              "       -0.70089266, -0.34025887, -0.24921613, -0.45616966, -0.1598879 ,\n",
              "       -0.23573784, -0.19746361, -0.90854932, -0.83324921, -0.0126697 ,\n",
              "       -0.64447863, -0.10142956, -0.76726458, -0.08969188, -0.53120467,\n",
              "       -0.07425867, -0.88875941, -0.76331792, -0.57191494, -0.95574308,\n",
              "       -0.19342065, -0.03257887, -0.57095742, -0.95452193, -0.97077904,\n",
              "       -0.38233225, -0.2763309 , -0.45804204, -0.04640843, -0.01468303,\n",
              "       -0.70281623, -0.8137347 , -0.59306611, -0.094036  , -0.95149028,\n",
              "       -0.32906207, -0.37378258, -0.82803019, -0.38401555, -0.50113405,\n",
              "       -0.63380544, -0.86277489, -0.89305262, -0.83828598, -0.99385967,\n",
              "       -0.65190907, -0.27766099, -0.19891865, -0.14831108, -0.04455828,\n",
              "       -0.65795187, -0.57240963, -0.61196812, -0.29215847, -0.63515747,\n",
              "       -0.52757709, -0.59440017, -0.91933068, -0.88571396, -0.19103843,\n",
              "       -0.79723411, -0.7876785 , -0.01787078, -0.02705377, -0.21254146,\n",
              "       -0.12739143, -0.9871713 , -0.13291009, -0.28297826, -0.74028422,\n",
              "       -0.9245054 , -0.63686333, -0.88852824, -0.23116407, -0.75554899,\n",
              "       -0.26228536, -0.01487818, -0.5520133 , -0.68962705, -0.96906136,\n",
              "       -0.88071906, -0.95431752, -0.13101721, -0.75514448, -0.4885677 ,\n",
              "       -0.55323397, -0.86507064, -0.95060648, -0.06239321, -0.69979868])"
            ]
          },
          "metadata": {}
        }
      ],
      "execution_count": 20,
      "metadata": {
        "collapsed": false,
        "outputHidden": false,
        "inputHidden": false
      }
    },
    {
      "cell_type": "code",
      "source": [
        "np.all(s >= -1)"
      ],
      "outputs": [
        {
          "output_type": "execute_result",
          "execution_count": 21,
          "data": {
            "text/plain": [
              "True"
            ]
          },
          "metadata": {}
        }
      ],
      "execution_count": 21,
      "metadata": {
        "collapsed": false,
        "outputHidden": false,
        "inputHidden": false
      }
    },
    {
      "cell_type": "code",
      "source": [
        "np.all(s < 0)"
      ],
      "outputs": [
        {
          "output_type": "execute_result",
          "execution_count": 22,
          "data": {
            "text/plain": [
              "True"
            ]
          },
          "metadata": {}
        }
      ],
      "execution_count": 22,
      "metadata": {
        "collapsed": false,
        "outputHidden": false,
        "inputHidden": false
      }
    },
    {
      "cell_type": "code",
      "source": [
        "count, bins, ignored = plt.hist(s, 15, normed=True)\n",
        "plt.plot(bins, np.ones_like(bins), linewidth=2, color='r')\n",
        "plt.grid()\n",
        "plt.title(\"Uniform Distribution\")\n",
        "plt.show()"
      ],
      "outputs": [
        {
          "output_type": "display_data",
          "data": {
            "image/png": "[encoded data removed]",
            "text/plain": [
              "<matplotlib.figure.Figure at 0x260b55eb208>"
            ]
          },
          "metadata": {}
        }
      ],
      "execution_count": 23,
      "metadata": {
        "collapsed": false,
        "outputHidden": false,
        "inputHidden": false
      }
    },
    {
      "cell_type": "markdown",
      "source": [
        "Normal Distribution"
      ],
      "metadata": {}
    },
    {
      "cell_type": "code",
      "source": [
        "samples = np.random.normal(1, 100, 50)\n",
        "samples"
      ],
      "outputs": [
        {
          "output_type": "execute_result",
          "execution_count": 24,
          "data": {
            "text/plain": [
              "array([ -70.73268231,  139.34310783,   73.26574497,   57.52956191,\n",
              "        141.32558109,   89.70434524,   90.35260385,    7.93326925,\n",
              "        112.25490894,   59.04475528,  -60.27653175,   18.26157234,\n",
              "         75.04801267,  -64.32224422,   28.65900041,  -29.91546654,\n",
              "        154.52006115,    2.79293182,  -87.06865817,  -64.82502711,\n",
              "        -65.56191754, -268.39188052,  138.87285545,  -64.73415747,\n",
              "         -7.54940022,   13.37897833,  -90.98543039,  -19.49906152,\n",
              "        122.22044924, -166.54250473,   62.57791413,  120.17583276,\n",
              "         49.15151357,   49.05191329, -105.94825192,   37.66318874,\n",
              "        -76.87847743,   31.57858474,  -32.50330922,  -51.58407535,\n",
              "         73.20208188,  -13.96298688,  -56.41886833,   59.06613704,\n",
              "       -138.47200754,   84.58020093,  -44.12457155,  156.09725098,\n",
              "        178.90771988,  -79.75124079])"
            ]
          },
          "metadata": {}
        }
      ],
      "execution_count": 24,
      "metadata": {
        "collapsed": false,
        "outputHidden": false,
        "inputHidden": false
      }
    },
    {
      "cell_type": "code",
      "source": [
        "mu = np.mean(samples)\n",
        "sigma = np.std(samples)\n",
        "s = np.random.normal(mu, sigma, len(samples))\n",
        "s"
      ],
      "outputs": [
        {
          "output_type": "execute_result",
          "execution_count": 25,
          "data": {
            "text/plain": [
              "array([ -23.80973217,  160.42752189, -109.55838177,   30.69676199,\n",
              "         96.19629418,   53.16643095,  -92.54456411,  -95.90625864,\n",
              "         59.34827033,   -1.4556773 ,   64.58716514,  -54.10276204,\n",
              "         36.3596223 ,  113.03253577,   45.29550505,   24.48846825,\n",
              "        -42.62062409,   17.78715797, -129.92190837,    3.01943001,\n",
              "         63.03814456,   17.83872291,   54.06623689,    6.8452103 ,\n",
              "         15.81852139,   21.16839183,  149.34300927,   21.70174219,\n",
              "         43.81738636,  -21.5609433 ,  -25.18806003,   78.6316852 ,\n",
              "       -101.9759564 ,   31.2381579 ,   48.9686271 ,  145.33248288,\n",
              "         61.28084646,   24.53613555,   33.96441985,   42.24319164,\n",
              "        132.39116049,  -50.02707596,   30.0010136 ,   64.56813558,\n",
              "         84.35460433,   34.9957701 ,  110.38767418,   82.69660499,\n",
              "        -38.15741302,  -65.99748715])"
            ]
          },
          "metadata": {}
        }
      ],
      "execution_count": 25,
      "metadata": {
        "collapsed": false,
        "outputHidden": false,
        "inputHidden": false
      }
    },
    {
      "cell_type": "code",
      "source": [
        "abs(mu - np.mean(samples)) < 0.01"
      ],
      "outputs": [
        {
          "output_type": "execute_result",
          "execution_count": 26,
          "data": {
            "text/plain": [
              "True"
            ]
          },
          "metadata": {}
        }
      ],
      "execution_count": 26,
      "metadata": {
        "collapsed": false,
        "outputHidden": false,
        "inputHidden": false
      }
    },
    {
      "cell_type": "code",
      "source": [
        "abs(sigma - np.std(s, ddof=1)) < 0.01"
      ],
      "outputs": [
        {
          "output_type": "execute_result",
          "execution_count": 27,
          "data": {
            "text/plain": [
              "False"
            ]
          },
          "metadata": {}
        }
      ],
      "execution_count": 27,
      "metadata": {
        "collapsed": false,
        "outputHidden": false,
        "inputHidden": false
      }
    },
    {
      "cell_type": "code",
      "source": [
        "count, bins, ignored = plt.hist(s, 30, normed=True)\n",
        "plt.plot(bins, 1/(sigma * np.sqrt(2 * np.pi)) *\n",
        "         np.exp( - (bins - mu)**2 / (2 * sigma**2) ),\n",
        "         linewidth=2, color='r')\n",
        "plt.title(\"Normal Distribution\")\n",
        "plt.show()"
      ],
      "outputs": [
        {
          "output_type": "display_data",
          "data": {
            "image/png": "[encoded data removed]",
            "text/plain": [
              "<matplotlib.figure.Figure at 0x260b57383c8>"
            ]
          },
          "metadata": {}
        }
      ],
      "execution_count": 28,
      "metadata": {
        "collapsed": false,
        "outputHidden": false,
        "inputHidden": false
      }
    },
    {
      "cell_type": "markdown",
      "source": [
        "Multivariate Normal Distribution"
      ],
      "metadata": {}
    },
    {
      "cell_type": "code",
      "source": [
        "from scipy.stats import multivariate_normal\n",
        "x = np.linspace(0, 5, 10, endpoint=False)\n",
        "y = multivariate_normal.pdf(x, mean=2.5, cov=0.5)\n",
        "y"
      ],
      "outputs": [
        {
          "output_type": "execute_result",
          "execution_count": 29,
          "data": {
            "text/plain": [
              "array([ 0.00108914,  0.01033349,  0.05946514,  0.20755375,  0.43939129,\n",
              "        0.56418958,  0.43939129,  0.20755375,  0.05946514,  0.01033349])"
            ]
          },
          "metadata": {}
        }
      ],
      "execution_count": 29,
      "metadata": {
        "collapsed": false,
        "outputHidden": false,
        "inputHidden": false
      }
    },
    {
      "cell_type": "code",
      "source": [
        "plt.plot(x, y)"
      ],
      "outputs": [
        {
          "output_type": "execute_result",
          "execution_count": 30,
          "data": {
            "text/plain": [
              "[<matplotlib.lines.Line2D at 0x260b5f0d908>]"
            ]
          },
          "metadata": {}
        },
        {
          "output_type": "display_data",
          "data": {
            "image/png": "[encoded data removed]",
            "text/plain": [
              "<matplotlib.figure.Figure at 0x260b5773be0>"
            ]
          },
          "metadata": {}
        }
      ],
      "execution_count": 30,
      "metadata": {
        "collapsed": false,
        "outputHidden": false,
        "inputHidden": false
      }
    },
    {
      "cell_type": "markdown",
      "source": [
        "Bernoulli Distribution"
      ],
      "metadata": {}
    },
    {
      "cell_type": "code",
      "source": [
        "from scipy.stats import bernoulli\n",
        "import seaborn as sns\n",
        "\n",
        "data = [1,8,10,11,25,37]\n",
        "p = .5\n",
        "\n",
        "data_bern = bernoulli.rvs(size=1000,p=p)\n",
        "ax = sns.distplot(data,\n",
        "                  kde=True,\n",
        "                  color='blue',\n",
        "                  hist_kws={\"linewidth\": 1,'alpha':1})\n",
        "ax.set(xlabel='Bernouli', ylabel='Frequency')"
      ],
      "outputs": [
        {
          "output_type": "execute_result",
          "execution_count": 31,
          "data": {
            "text/plain": [
              "[<matplotlib.text.Text at 0x260b6213ef0>,\n",
              " <matplotlib.text.Text at 0x260b620a860>]"
            ]
          },
          "metadata": {}
        },
        {
          "output_type": "display_data",
          "data": {
            "image/png": "[encoded data removed]",
            "text/plain": [
              "<matplotlib.figure.Figure at 0x260b5edff98>"
            ]
          },
          "metadata": {}
        }
      ],
      "execution_count": 31,
      "metadata": {
        "collapsed": false,
        "outputHidden": false,
        "inputHidden": false
      }
    },
    {
      "cell_type": "code",
      "source": [
        "R = bernoulli.rvs(p, size=100)\n",
        "R"
      ],
      "outputs": [
        {
          "output_type": "execute_result",
          "execution_count": 32,
          "data": {
            "text/plain": [
              "array([1, 1, 0, 0, 0, 0, 0, 1, 1, 0, 1, 1, 1, 0, 0, 0, 1, 1, 1, 1, 0, 0, 1,\n",
              "       1, 0, 0, 0, 1, 0, 0, 1, 0, 0, 1, 1, 0, 0, 0, 0, 0, 1, 0, 0, 1, 0, 0,\n",
              "       0, 1, 0, 0, 1, 0, 1, 0, 0, 0, 1, 1, 1, 0, 0, 1, 1, 1, 0, 1, 0, 0, 0,\n",
              "       0, 0, 0, 0, 0, 1, 1, 1, 0, 1, 1, 0, 1, 1, 1, 0, 0, 0, 0, 1, 0, 1, 1,\n",
              "       1, 0, 1, 1, 1, 1, 0, 0])"
            ]
          },
          "metadata": {}
        }
      ],
      "execution_count": 32,
      "metadata": {
        "collapsed": false,
        "outputHidden": false,
        "inputHidden": false
      }
    },
    {
      "cell_type": "markdown",
      "source": [
        "Bionomial Distribution"
      ],
      "metadata": {}
    },
    {
      "cell_type": "code",
      "source": [
        "n = 10\n",
        "p = 0.3\n",
        "k = np.arange(0,21)\n",
        "binomial = stats.binom.pmf(k, n, p)\n",
        "binomial"
      ],
      "outputs": [
        {
          "output_type": "execute_result",
          "execution_count": 33,
          "data": {
            "text/plain": [
              "array([  2.82475249e-02,   1.21060821e-01,   2.33474440e-01,\n",
              "         2.66827932e-01,   2.00120949e-01,   1.02919345e-01,\n",
              "         3.67569090e-02,   9.00169200e-03,   1.44670050e-03,\n",
              "         1.37781000e-04,   5.90490000e-06,   0.00000000e+00,\n",
              "         0.00000000e+00,   0.00000000e+00,   0.00000000e+00,\n",
              "         0.00000000e+00,   0.00000000e+00,   0.00000000e+00,\n",
              "         0.00000000e+00,   0.00000000e+00,   0.00000000e+00])"
            ]
          },
          "metadata": {}
        }
      ],
      "execution_count": 33,
      "metadata": {
        "collapsed": false,
        "outputHidden": false,
        "inputHidden": false
      }
    },
    {
      "cell_type": "code",
      "source": [
        "plt.plot(k, binomial, 'o-')\n",
        "plt.title('Binomial: n=%i, p = %.2f' % (n,p), fontsize=15)\n",
        "plt.xlabel('Number of successes')\n",
        "plt.ylabel('Probability of successes', fontsize=15)\n",
        "plt.show()"
      ],
      "outputs": [
        {
          "output_type": "display_data",
          "data": {
            "image/png": "[encoded data removed]",
            "text/plain": [
              "<matplotlib.figure.Figure at 0x260b5f25198>"
            ]
          },
          "metadata": {}
        }
      ],
      "execution_count": 34,
      "metadata": {
        "collapsed": false,
        "outputHidden": false,
        "inputHidden": false
      }
    },
    {
      "cell_type": "code",
      "source": [
        "binom_sim = data = stats.binom.rvs(n=10, p=0.3, size=10000)\n",
        "print('Mean: %g' % np.mean(binom_sim))\n",
        "print('SD: %g' % np.std(binom_sim, ddof=1))\n",
        "plt.hist(binom_sim, bins=10, normed=True)\n",
        "plt.xlabel(\"x\")\n",
        "plt.ylabel(\"density\")\n",
        "plt.show()"
      ],
      "outputs": [
        {
          "output_type": "stream",
          "name": "stdout",
          "text": [
            "Mean: 2.9866\n",
            "SD: 1.44666\n"
          ]
        },
        {
          "output_type": "display_data",
          "data": {
            "image/png": "[encoded data removed]",
            "text/plain": [
              "<matplotlib.figure.Figure at 0x260b7276080>"
            ]
          },
          "metadata": {}
        }
      ],
      "execution_count": 35,
      "metadata": {
        "collapsed": false,
        "outputHidden": false,
        "inputHidden": false
      }
    },
    {
      "cell_type": "markdown",
      "source": [
        "Poisson Distribution"
      ],
      "metadata": {}
    },
    {
      "cell_type": "code",
      "source": [
        "rate = 2\n",
        "n = np.arange(0, 10)\n",
        "y = stats.poisson.pmf(n, rate)\n",
        "y"
      ],
      "outputs": [
        {
          "output_type": "execute_result",
          "execution_count": 36,
          "data": {
            "text/plain": [
              "array([  1.35335283e-01,   2.70670566e-01,   2.70670566e-01,\n",
              "         1.80447044e-01,   9.02235222e-02,   3.60894089e-02,\n",
              "         1.20298030e-02,   3.43708656e-03,   8.59271640e-04,\n",
              "         1.90949253e-04])"
            ]
          },
          "metadata": {}
        }
      ],
      "execution_count": 36,
      "metadata": {
        "collapsed": false,
        "outputHidden": false,
        "inputHidden": false
      }
    },
    {
      "cell_type": "code",
      "source": [
        "plt.plot(n, y, 'o-')\n",
        "plt.title('Poisson: $\\lambda$ =%i' % rate)\n",
        "plt.xlabel('Number of accidents')\n",
        "plt.ylabel('Probability of number of accident')\n",
        "plt.show()"
      ],
      "outputs": [
        {
          "output_type": "display_data",
          "data": {
            "image/png": "[encoded data removed]",
            "text/plain": [
              "<matplotlib.figure.Figure at 0x260b5ed1470>"
            ]
          },
          "metadata": {}
        }
      ],
      "execution_count": 37,
      "metadata": {
        "collapsed": false,
        "outputHidden": false,
        "inputHidden": false
      }
    },
    {
      "cell_type": "code",
      "source": [
        "data = stats.poisson.rvs(mu=2, loc=0, size=10000)\n",
        "print('Mean: %g' % np.mean(data))\n",
        "print('SD: %g' % np.std(data, ddof=1))\n",
        "plt.hist(data, bins=9, normed=True)\n",
        "plt.xlabel(\"Number of accidents\")\n",
        "plt.ylabel(\"Simulating Poisson Random Variables\")\n",
        "plt.show()"
      ],
      "outputs": [
        {
          "output_type": "stream",
          "name": "stdout",
          "text": [
            "Mean: 2.006\n",
            "SD: 1.41243\n"
          ]
        },
        {
          "output_type": "display_data",
          "data": {
            "image/png": "[encoded data removed]",
            "text/plain": [
              "<matplotlib.figure.Figure at 0x260b5f2ca58>"
            ]
          },
          "metadata": {}
        }
      ],
      "execution_count": 38,
      "metadata": {
        "collapsed": false,
        "outputHidden": false,
        "inputHidden": false
      }
    },
    {
      "cell_type": "markdown",
      "source": [
        "Maximum Likelilhood Estimate"
      ],
      "metadata": {}
    },
    {
      "cell_type": "code",
      "source": [
        "from scipy.stats import norm\n",
        "\n",
        "# Example\n",
        "samples = 4\n",
        "mu = 2\n",
        "sd = 1\n",
        "norm.pdf(samples, mu, sd)"
      ],
      "outputs": [
        {
          "output_type": "execute_result",
          "execution_count": 39,
          "data": {
            "text/plain": [
              "0.053990966513188063"
            ]
          },
          "metadata": {}
        }
      ],
      "execution_count": 39,
      "metadata": {
        "collapsed": false,
        "outputHidden": false,
        "inputHidden": false
      }
    },
    {
      "cell_type": "code",
      "source": [
        "# Compare the likelihood of the random samples of two distributions\n",
        "x = [1,2,3,4,5,6,7,8,9,10]\n",
        "\n",
        "def compare_dist(x, mu_1=4, mu_2=8, sd_1=3, sd_2=3):\n",
        "    ll_1 = 0\n",
        "    ll_2 = 0\n",
        "    for i in x:\n",
        "        ll_1 += np.log(norm.pdf(i, mu_1, sd_1))\n",
        "        ll_2 += np.log(norm.pdf(i, mu_2, sd_2))\n",
        "    \n",
        "    print(\"The Likelihood of x for mu = %d and sd = %d is: %.4f\" % (mu_1, sd_1, ll_1))\n",
        "    print(\"The Likelihood of x for mu = %d and sd = %d is: %.4f\" % (mu_2, sd_2, ll_2))\n",
        "    if ll_1 > ll_2:\n",
        "        print(\"The first Likelihood is the better answer.\")\n",
        "    else:\n",
        "        print(\"The second Likelihood is the better answer.\")\n",
        "        \n",
        "compare_dist(x)"
      ],
      "outputs": [
        {
          "output_type": "stream",
          "name": "stdout",
          "text": [
            "The Likelihood of x for mu = 4 and sd = 3 is: -26.0088\n",
            "The Likelihood of x for mu = 8 and sd = 3 is: -28.2311\n",
            "The first Likelihood is the better answer.\n"
          ]
        }
      ],
      "execution_count": 40,
      "metadata": {
        "collapsed": false,
        "outputHidden": false,
        "inputHidden": false
      }
    },
    {
      "cell_type": "markdown",
      "source": [
        "Hypothesis Testing & p-value"
      ],
      "metadata": {}
    },
    {
      "cell_type": "code",
      "source": [
        "from scipy import stats\n",
        "\n",
        "data1 = [0,1,2,3,4,5,6]\n",
        "data2 = [1,8,9,6,4,3,2]\n",
        "\n",
        "beta, alpha, r_value, p_value, std_err = stats.linregress(data1, data2)\n",
        "print(beta, alpha)\n",
        "print(\"R-squared=\", r_value**2)\n",
        "print(\"p-value =\", p_value)\n",
        "\n",
        "if p_value < alpha:  # null hypothesis: x comes from a normal distribution\n",
        "    print(\"The null hypothesis can be rejected\")\n",
        "else:\n",
        "    print(\"The null hypothesis cannot be rejected\")"
      ],
      "outputs": [
        {
          "output_type": "stream",
          "name": "stdout",
          "text": [
            "-0.428571428571 6.0\n",
            "R-squared= 0.0927835051546\n",
            "p-value = 0.506540486632\n",
            "The null hypothesis can be rejected\n"
          ]
        }
      ],
      "execution_count": 41,
      "metadata": {}
    }
  ],
  "metadata": {
    "kernelspec": {
      "name": "python3",
      "language": "python",
      "display_name": "Python 3"
    },
    "kernel_info": {
      "name": "python3"
    },
    "language_info": {
      "file_extension": ".py",
      "version": "3.5.5",
      "codemirror_mode": {
        "version": 3,
        "name": "ipython"
      },
      "name": "python",
      "pygments_lexer": "ipython3",
      "mimetype": "text/x-python",
      "nbconvert_exporter": "python"
    },
    "nteract": {
      "version": "0.12.2"
    }
  },
  "nbformat": 4,
  "nbformat_minor": 4
}