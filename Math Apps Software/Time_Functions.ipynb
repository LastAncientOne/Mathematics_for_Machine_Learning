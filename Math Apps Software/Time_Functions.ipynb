{
  "cells": [
    {
      "cell_type": "markdown",
      "source": [
        "# Time Functions"
      ],
      "metadata": {}
    },
    {
      "cell_type": "code",
      "source": [
        "def convert_days_to_seconds(days):\n",
        "    hours = days * 24\n",
        "    minutes = hours * 60\n",
        "    seconds = minutes * 60\n",
        "    return seconds"
      ],
      "outputs": [],
      "execution_count": 1,
      "metadata": {
        "collapsed": false,
        "outputHidden": false,
        "inputHidden": false
      }
    },
    {
      "cell_type": "code",
      "source": [
        "total_seconds = convert_days_to_seconds(7)\n",
        "print(\"Total seconds in days:\", total_seconds)"
      ],
      "outputs": [
        {
          "output_type": "stream",
          "name": "stdout",
          "text": [
            "Total seconds in days: 604800\n"
          ]
        }
      ],
      "execution_count": 2,
      "metadata": {
        "collapsed": false,
        "outputHidden": false,
        "inputHidden": false
      }
    },
    {
      "cell_type": "code",
      "source": [
        "def convert_days_to_milliseconds(days):\n",
        "    hours = days * 24\n",
        "    minutes = hours * 60\n",
        "    seconds = minutes * 60\n",
        "    milliseconds = seconds * 1000\n",
        "    return milliseconds"
      ],
      "outputs": [],
      "execution_count": 3,
      "metadata": {
        "collapsed": false,
        "outputHidden": false,
        "inputHidden": false
      }
    },
    {
      "cell_type": "code",
      "source": [
        "total_seconds = convert_days_to_milliseconds(7)\n",
        "print(\"Total milliseconds in days:\", total_seconds)"
      ],
      "outputs": [
        {
          "output_type": "stream",
          "name": "stdout",
          "text": [
            "Total milliseconds in days: 604800000\n"
          ]
        }
      ],
      "execution_count": 4,
      "metadata": {
        "collapsed": false,
        "outputHidden": false,
        "inputHidden": false
      }
    },
    {
      "cell_type": "code",
      "source": [
        "def convert_seconds_to_minutes(seconds):\n",
        "    minutes = seconds/60\n",
        "    return minutes"
      ],
      "outputs": [],
      "execution_count": 5,
      "metadata": {
        "collapsed": false,
        "outputHidden": false,
        "inputHidden": false
      }
    },
    {
      "cell_type": "code",
      "source": [
        "total_minutes = convert_seconds_to_minutes(120)\n",
        "print(\"Total minutes in seconds:\", total_minutes)"
      ],
      "outputs": [
        {
          "output_type": "stream",
          "name": "stdout",
          "text": [
            "Total minutes in seconds: 2.0\n"
          ]
        }
      ],
      "execution_count": 6,
      "metadata": {
        "collapsed": false,
        "outputHidden": false,
        "inputHidden": false
      }
    },
    {
      "cell_type": "code",
      "source": [
        "def convert_number_of_days(n):\n",
        "    days_in_week = 7\n",
        "    year = int(n / 365) \n",
        "    week = int((n % 365) / days_in_week) \n",
        "    days = (n % 365) % days_in_week  \n",
        "      \n",
        "    print(\"Years =\",year, \n",
        "          \"\\nWeeks =\",week, \n",
        "          \"\\nDays =\",days) \n",
        "    return"
      ],
      "outputs": [],
      "execution_count": 7,
      "metadata": {
        "collapsed": false,
        "outputHidden": false,
        "inputHidden": false
      }
    },
    {
      "cell_type": "code",
      "source": [
        "convert_number_of_days(500)"
      ],
      "outputs": [
        {
          "output_type": "stream",
          "name": "stdout",
          "text": [
            "Years = 1 \n",
            "Weeks = 19 \n",
            "Days = 2\n"
          ]
        }
      ],
      "execution_count": 8,
      "metadata": {
        "collapsed": false,
        "outputHidden": false,
        "inputHidden": false
      }
    },
    {
      "cell_type": "code",
      "source": [
        "def convert_number_birthday(n):\n",
        "    days_in_week = 7\n",
        "    years = int(n) \n",
        "    months = years * 12\n",
        "    weeks = years * round((365/days_in_week),1) \n",
        "    days = years * 365\n",
        "    hours = days * 24\n",
        "    minutes = hours * 60\n",
        "    seconds = minutes * 60\n",
        "    milliseconds = seconds * 1000\n",
        "    print(\"Years =\",years, \n",
        "          \"\\nMonths =\", months,\n",
        "          \"\\nWeeks =\",weeks,\n",
        "          \"\\nDays =\",days,\n",
        "         \"\\nHours:\", hours,\n",
        "         \"\\nMinutes:\", minutes,\n",
        "         \"\\nSeconds:\", seconds,\n",
        "         \"\\nMilliseconds:\", milliseconds)\n",
        "    return"
      ],
      "outputs": [],
      "execution_count": 9,
      "metadata": {
        "collapsed": false,
        "outputHidden": false,
        "inputHidden": false
      }
    },
    {
      "cell_type": "code",
      "source": [
        "convert_number_birthday(1)"
      ],
      "outputs": [
        {
          "output_type": "stream",
          "name": "stdout",
          "text": [
            "Years = 1 \n",
            "Months = 12 \n",
            "Weeks = 52.1 \n",
            "Days = 365 \n",
            "Hours: 8760 \n",
            "Minutes: 525600 \n",
            "Seconds: 31536000 \n",
            "Milliseconds: 31536000000\n"
          ]
        }
      ],
      "execution_count": 10,
      "metadata": {
        "collapsed": false,
        "outputHidden": false,
        "inputHidden": false
      }
    }
  ],
  "metadata": {
    "kernel_info": {
      "name": "python3"
    },
    "language_info": {
      "version": "3.5.5",
      "nbconvert_exporter": "python",
      "codemirror_mode": {
        "version": 3,
        "name": "ipython"
      },
      "pygments_lexer": "ipython3",
      "name": "python",
      "file_extension": ".py",
      "mimetype": "text/x-python"
    },
    "kernelspec": {
      "name": "python3",
      "language": "python",
      "display_name": "Python 3"
    },
    "nteract": {
      "version": "0.14.3"
    }
  },
  "nbformat": 4,
  "nbformat_minor": 0
}