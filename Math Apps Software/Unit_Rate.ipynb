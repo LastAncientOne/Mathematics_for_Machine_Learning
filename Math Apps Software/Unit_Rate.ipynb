{
  "cells": [
    {
      "cell_type": "markdown",
      "source": [
        "# Unit Rate & Graph Proportional Relationships"
      ],
      "metadata": {}
    },
    {
      "cell_type": "code",
      "source": [
        "import pandas as pd\n",
        "import numpy as np\n",
        "import math\n",
        "import matplotlib.pyplot as plt"
      ],
      "outputs": [],
      "execution_count": 1,
      "metadata": {
        "collapsed": false,
        "outputHidden": false,
        "inputHidden": false
      }
    },
    {
      "cell_type": "code",
      "source": [
        "def Unit_Rates():\n",
        "    x_name = str(input(\"Enter the x value (run) names: \"))\n",
        "    y_name = str(input(\"Enter the y value (rise) names: \"))\n",
        "    print('\\n')\n",
        "    print('Quantities Measured Units')\n",
        "    print('Name for x value: ', x_name)\n",
        "    print('Name for y value: ', y_name)\n",
        "    print(y_name + ' per ' + x_name)\n",
        "    return"
      ],
      "outputs": [],
      "execution_count": 2,
      "metadata": {
        "collapsed": false,
        "outputHidden": false,
        "inputHidden": false
      }
    },
    {
      "cell_type": "code",
      "source": [
        "def Finding_Unit_Rates():\n",
        "    x_value = float(input(\"Enter the X Value: \"))\n",
        "    y_value = float(input(\"Enter the Y Value: \"))\n",
        "    k = y_value / x_value\n",
        "    print('unit rate: ', k)\n",
        "    print('Equation: y = %s*x' % k)\n",
        "    return"
      ],
      "outputs": [],
      "execution_count": 3,
      "metadata": {
        "collapsed": false,
        "outputHidden": false,
        "inputHidden": false
      }
    },
    {
      "cell_type": "code",
      "source": [
        "def Finding_Unit_Rates_Equations():\n",
        "    print('y is the rise (distance)')\n",
        "    print('x is the run (time)')\n",
        "    x_name = str(input(\"Enter the x value (run) names: \"))\n",
        "    y_name = str(input(\"Enter the y value (rise) names: \"))\n",
        "    x_value = float(input(\"Enter the X Value: \"))\n",
        "    y_value = float(input(\"Enter the Y Value: \"))\n",
        "    k = y_value / x_value\n",
        "    print('unit rate: ', k)\n",
        "    print('Equation: y = %s*x' % k)\n",
        "    print('%s' % k, y_name + ' per ' + x_name)\n",
        "    return"
      ],
      "outputs": [],
      "execution_count": 4,
      "metadata": {
        "collapsed": false,
        "outputHidden": false,
        "inputHidden": false
      }
    },
    {
      "cell_type": "code",
      "source": [
        "x = [1,2,3,4,5]\n",
        "y = [16,32,48,64,80]\n",
        "plt.plot(x, y) \n",
        "plt.scatter(x, y)\n",
        "plt.xlabel('Number of Days')  \n",
        "plt.ylabel('Amounted Earned ($)')  \n",
        "plt.title('Amounted earned per number of days') \n",
        "plt.grid()\n",
        "plt.show() "
      ],
      "outputs": [
        {
          "output_type": "display_data",
          "data": {
            "image/png": "[encoded data removed]",
            "text/plain": [
              "<Figure size 432x288 with 1 Axes>"
            ]
          },
          "metadata": {}
        }
      ],
      "execution_count": 5,
      "metadata": {
        "collapsed": false,
        "outputHidden": false,
        "inputHidden": false
      }
    },
    {
      "cell_type": "code",
      "source": [
        "X = [1,2,3,4,5]\n",
        "Y = [16,32,48,64,80]\n",
        "\n",
        "def plot_equation(X, Y):\n",
        "\n",
        "    xbar = sum(X)/len(X)\n",
        "    ybar = sum(Y)/len(Y)\n",
        "    n = len(X) # or len(Y)\n",
        "\n",
        "    numerator = sum([xi*yi for xi,yi in zip(X, Y)]) - n * xbar * ybar\n",
        "    denominator = sum([xi**2 for xi in X]) - n * xbar**2\n",
        "\n",
        "    b = numerator  / denominator\n",
        "    a = ybar - b * xbar\n",
        "\n",
        "    print('best fit line:\\ny = {:.2f} + {:.2f}x'.format(a, b))\n",
        "    print('The constant of proportionality is', b)\n",
        "    print('The y-intercept is', a)\n",
        "    print('Straight Line')\n",
        "    return a, b\n",
        "\n",
        "# Solution\n",
        "a, b = plot_equation(X, Y)\n",
        "\n",
        "\n",
        "# plot points and fit line\n",
        "import matplotlib.pyplot as plt\n",
        "plt.scatter(X, Y)\n",
        "plt.title('Y-Axis over X-Axis')\n",
        "plt.xlabel('X-Axis')  \n",
        "plt.ylabel('Y-Axis')  \n",
        "plt.grid()\n",
        "yfit = [a + b * xi for xi in X]\n",
        "plt.plot(X, yfit)"
      ],
      "outputs": [
        {
          "output_type": "stream",
          "name": "stdout",
          "text": [
            "best fit line:\n",
            "y = 0.00 + 16.00x\n",
            "The constant of proportionality is 16.0\n",
            "The y-intercept is 0.0\n",
            "Straight Line\n"
          ]
        },
        {
          "output_type": "execute_result",
          "execution_count": 6,
          "data": {
            "text/plain": [
              "[<matplotlib.lines.Line2D at 0x126a63abf28>]"
            ]
          },
          "metadata": {}
        },
        {
          "output_type": "display_data",
          "data": {
            "image/png": "[encoded data removed]",
            "text/plain": [
              "<Figure size 432x288 with 1 Axes>"
            ]
          },
          "metadata": {}
        }
      ],
      "execution_count": 6,
      "metadata": {
        "collapsed": false,
        "outputHidden": false,
        "inputHidden": false
      }
    },
    {
      "cell_type": "code",
      "source": [
        "# Plot 2 lines\n",
        "X = [0,1,2,3,4,5]\n",
        "Y = [0,2,4,6,8,10]\n",
        "\n",
        "X2 = [0,1,2,3,4,5]\n",
        "Y2 = [2,4,6,8,10,12]\n",
        "\n",
        "a, b = plot_equation(X, Y)\n",
        "a2, b2 = plot_equation(X2, Y2)\n",
        "plt.scatter(X, Y)\n",
        "plt.scatter(X2, Y2)\n",
        "plt.title('Y-Axis over X-Axis')\n",
        "plt.xlabel('X-Axis')  \n",
        "plt.ylabel('Y-Axis')  \n",
        "plt.grid()\n",
        "yfit = [a + b * xi for xi in X]\n",
        "plt.plot(X, yfit)\n",
        "yfit2 = [a2 + b2 * xi for xi in X2]\n",
        "plt.plot(X2, yfit2)\n",
        "plt.legend(labels=['Line', 'Line2'])"
      ],
      "outputs": [
        {
          "output_type": "stream",
          "name": "stdout",
          "text": [
            "best fit line:\n",
            "y = 0.00 + 2.00x\n",
            "The constant of proportionality is 2.0\n",
            "The y-intercept is 0.0\n",
            "Straight Line\n",
            "best fit line:\n",
            "y = 2.00 + 2.00x\n",
            "The constant of proportionality is 2.0\n",
            "The y-intercept is 2.0\n",
            "Straight Line\n"
          ]
        },
        {
          "output_type": "execute_result",
          "execution_count": 7,
          "data": {
            "text/plain": [
              "<matplotlib.legend.Legend at 0x126a63f2ef0>"
            ]
          },
          "metadata": {}
        },
        {
          "output_type": "display_data",
          "data": {
            "image/png": "[encoded data removed]",
            "text/plain": [
              "<Figure size 432x288 with 1 Axes>"
            ]
          },
          "metadata": {}
        }
      ],
      "execution_count": 7,
      "metadata": {
        "collapsed": false,
        "outputHidden": false,
        "inputHidden": false
      }
    }
  ],
  "metadata": {
    "kernel_info": {
      "name": "python3"
    },
    "language_info": {
      "nbconvert_exporter": "python",
      "version": "3.5.5",
      "name": "python",
      "pygments_lexer": "ipython3",
      "file_extension": ".py",
      "mimetype": "text/x-python",
      "codemirror_mode": {
        "version": 3,
        "name": "ipython"
      }
    },
    "kernelspec": {
      "name": "python3",
      "language": "python",
      "display_name": "Python 3"
    },
    "nteract": {
      "version": "0.15.0"
    }
  },
  "nbformat": 4,
  "nbformat_minor": 0
}