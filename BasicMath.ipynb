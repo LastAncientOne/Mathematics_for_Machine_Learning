{
  "cells": [
    {
      "cell_type": "markdown",
      "source": [
        "Basic Math"
      ],
      "metadata": {}
    },
    {
      "cell_type": "code",
      "source": [
        "import math"
      ],
      "outputs": [],
      "execution_count": 1,
      "metadata": {
        "collapsed": false,
        "outputHidden": false,
        "inputHidden": false
      }
    },
    {
      "cell_type": "code",
      "source": [
        "1 + 1 # Addition"
      ],
      "outputs": [
        {
          "output_type": "execute_result",
          "execution_count": 2,
          "data": {
            "text/plain": [
              "2"
            ]
          },
          "metadata": {}
        }
      ],
      "execution_count": 2,
      "metadata": {
        "collapsed": false,
        "outputHidden": false,
        "inputHidden": false
      }
    },
    {
      "cell_type": "code",
      "source": [
        "2 - 1 # Subtraction"
      ],
      "outputs": [
        {
          "output_type": "execute_result",
          "execution_count": 3,
          "data": {
            "text/plain": [
              "1"
            ]
          },
          "metadata": {}
        }
      ],
      "execution_count": 3,
      "metadata": {
        "collapsed": false,
        "outputHidden": false,
        "inputHidden": false
      }
    },
    {
      "cell_type": "code",
      "source": [
        "8 - 9"
      ],
      "outputs": [
        {
          "output_type": "execute_result",
          "execution_count": 4,
          "data": {
            "text/plain": [
              "-1"
            ]
          },
          "metadata": {}
        }
      ],
      "execution_count": 4,
      "metadata": {
        "collapsed": false,
        "outputHidden": false,
        "inputHidden": false
      }
    },
    {
      "cell_type": "code",
      "source": [
        "2 * 8 # Multiplication"
      ],
      "outputs": [
        {
          "output_type": "execute_result",
          "execution_count": 5,
          "data": {
            "text/plain": [
              "16"
            ]
          },
          "metadata": {}
        }
      ],
      "execution_count": 5,
      "metadata": {
        "collapsed": false,
        "outputHidden": false,
        "inputHidden": false
      }
    },
    {
      "cell_type": "code",
      "source": [
        "8 / 4 # Division "
      ],
      "outputs": [
        {
          "output_type": "execute_result",
          "execution_count": 6,
          "data": {
            "text/plain": [
              "2.0"
            ]
          },
          "metadata": {}
        }
      ],
      "execution_count": 6,
      "metadata": {
        "collapsed": false,
        "outputHidden": false,
        "inputHidden": false
      }
    },
    {
      "cell_type": "code",
      "source": [
        "20 // 6 # Division, removed devimal values"
      ],
      "outputs": [
        {
          "output_type": "execute_result",
          "execution_count": 7,
          "data": {
            "text/plain": [
              "3"
            ]
          },
          "metadata": {}
        }
      ],
      "execution_count": 7,
      "metadata": {
        "collapsed": false,
        "outputHidden": false,
        "inputHidden": false
      }
    },
    {
      "cell_type": "code",
      "source": [
        "20 % 6 # Shows remainder for division"
      ],
      "outputs": [
        {
          "output_type": "execute_result",
          "execution_count": 8,
          "data": {
            "text/plain": [
              "2"
            ]
          },
          "metadata": {}
        }
      ],
      "execution_count": 8,
      "metadata": {
        "collapsed": false,
        "outputHidden": false,
        "inputHidden": false
      }
    },
    {
      "cell_type": "code",
      "source": [
        "3  ** 2 # ** means raised to the power"
      ],
      "outputs": [
        {
          "output_type": "execute_result",
          "execution_count": 9,
          "data": {
            "text/plain": [
              "9"
            ]
          },
          "metadata": {}
        }
      ],
      "execution_count": 9,
      "metadata": {
        "collapsed": false,
        "outputHidden": false,
        "inputHidden": false
      }
    },
    {
      "cell_type": "code",
      "source": [
        "16 ** (1/2) # Squared root  "
      ],
      "outputs": [
        {
          "output_type": "execute_result",
          "execution_count": 10,
          "data": {
            "text/plain": [
              "4.0"
            ]
          },
          "metadata": {}
        }
      ],
      "execution_count": 10,
      "metadata": {
        "collapsed": false,
        "outputHidden": false,
        "inputHidden": false
      }
    },
    {
      "cell_type": "code",
      "source": [
        "8 ** (1/3) # Squared cube"
      ],
      "outputs": [
        {
          "output_type": "execute_result",
          "execution_count": 11,
          "data": {
            "text/plain": [
              "2.0"
            ]
          },
          "metadata": {}
        }
      ],
      "execution_count": 11,
      "metadata": {
        "collapsed": false,
        "outputHidden": false,
        "inputHidden": false
      }
    },
    {
      "cell_type": "code",
      "source": [
        "abs(-8) # Absolute Value"
      ],
      "outputs": [
        {
          "output_type": "execute_result",
          "execution_count": 12,
          "data": {
            "text/plain": [
              "8"
            ]
          },
          "metadata": {}
        }
      ],
      "execution_count": 12,
      "metadata": {
        "collapsed": false,
        "outputHidden": false,
        "inputHidden": false
      }
    },
    {
      "cell_type": "code",
      "source": [
        "7%3 # 7 mod 3 - modulo"
      ],
      "outputs": [
        {
          "output_type": "execute_result",
          "execution_count": 13,
          "data": {
            "text/plain": [
              "1"
            ]
          },
          "metadata": {}
        }
      ],
      "execution_count": 13,
      "metadata": {
        "collapsed": false,
        "outputHidden": false,
        "inputHidden": false
      }
    },
    {
      "cell_type": "code",
      "source": [
        "# round decimal point to 2 places\n",
        "round(3.1468, 2)"
      ],
      "outputs": [
        {
          "output_type": "execute_result",
          "execution_count": 14,
          "data": {
            "text/plain": [
              "3.15"
            ]
          },
          "metadata": {}
        }
      ],
      "execution_count": 14,
      "metadata": {
        "collapsed": false,
        "outputHidden": false,
        "inputHidden": false
      }
    },
    {
      "cell_type": "code",
      "source": [
        "# Logarithmic of x to base b\n",
        "# log(x, b)\n",
        "math.log(64, 2)"
      ],
      "outputs": [
        {
          "output_type": "execute_result",
          "execution_count": 15,
          "data": {
            "text/plain": [
              "6.0"
            ]
          },
          "metadata": {}
        }
      ],
      "execution_count": 15,
      "metadata": {
        "collapsed": false,
        "outputHidden": false,
        "inputHidden": false
      }
    },
    {
      "cell_type": "markdown",
      "source": [
        "PEMDAS - Parentheses, Exponents, Multiply, Divide, Add, Subtract"
      ],
      "metadata": {}
    },
    {
      "cell_type": "code",
      "source": [
        "3 + 3 * 3"
      ],
      "outputs": [
        {
          "output_type": "execute_result",
          "execution_count": 16,
          "data": {
            "text/plain": [
              "12"
            ]
          },
          "metadata": {}
        }
      ],
      "execution_count": 16,
      "metadata": {
        "collapsed": false,
        "outputHidden": false,
        "inputHidden": false
      }
    },
    {
      "cell_type": "code",
      "source": [
        "(8 - 5) * 2"
      ],
      "outputs": [
        {
          "output_type": "execute_result",
          "execution_count": 17,
          "data": {
            "text/plain": [
              "6"
            ]
          },
          "metadata": {}
        }
      ],
      "execution_count": 17,
      "metadata": {
        "collapsed": false,
        "outputHidden": false,
        "inputHidden": false
      }
    },
    {
      "cell_type": "code",
      "source": [
        "12 - 8 + 4 * 2 - (6 / 3)"
      ],
      "outputs": [
        {
          "output_type": "execute_result",
          "execution_count": 18,
          "data": {
            "text/plain": [
              "10.0"
            ]
          },
          "metadata": {}
        }
      ],
      "execution_count": 18,
      "metadata": {
        "collapsed": false,
        "outputHidden": false,
        "inputHidden": false
      }
    },
    {
      "cell_type": "markdown",
      "source": [
        "Fractions"
      ],
      "metadata": {}
    },
    {
      "cell_type": "code",
      "source": [
        "from fractions import Fraction\n",
        "# Fraction(numerator, denominator)\n",
        "\n",
        "d = (0.25, 0.5, 0.75, 1.25)\n",
        "for the_decimal in d:\n",
        "    print(Fraction(the_decimal))"
      ],
      "outputs": [
        {
          "output_type": "stream",
          "name": "stdout",
          "text": [
            "1/4\n",
            "1/2\n",
            "3/4\n",
            "5/4\n"
          ]
        }
      ],
      "execution_count": 19,
      "metadata": {
        "collapsed": false,
        "outputHidden": false,
        "inputHidden": false
      }
    },
    {
      "cell_type": "code",
      "source": [
        "from decimal import Decimal\n",
        "\n",
        "f = (1/4, 1/2, 3/4, 7/2)\n",
        "for the_fraction in f:\n",
        "    print(Decimal(the_fraction))"
      ],
      "outputs": [
        {
          "output_type": "stream",
          "name": "stdout",
          "text": [
            "0.25\n",
            "0.5\n",
            "0.75\n",
            "3.5\n"
          ]
        }
      ],
      "execution_count": 20,
      "metadata": {
        "collapsed": false,
        "outputHidden": false,
        "inputHidden": false
      }
    },
    {
      "cell_type": "code",
      "source": [
        "Fraction(1,7) + Fraction(2,7) "
      ],
      "outputs": [
        {
          "output_type": "execute_result",
          "execution_count": 21,
          "data": {
            "text/plain": [
              "Fraction(3, 7)"
            ]
          },
          "metadata": {}
        }
      ],
      "execution_count": 21,
      "metadata": {
        "collapsed": false,
        "outputHidden": false,
        "inputHidden": false
      }
    },
    {
      "cell_type": "code",
      "source": [
        "Fraction(1/2) + Fraction(1/4) "
      ],
      "outputs": [
        {
          "output_type": "execute_result",
          "execution_count": 22,
          "data": {
            "text/plain": [
              "Fraction(3, 4)"
            ]
          },
          "metadata": {}
        }
      ],
      "execution_count": 22,
      "metadata": {
        "collapsed": false,
        "outputHidden": false,
        "inputHidden": false
      }
    },
    {
      "cell_type": "code",
      "source": [
        "Fraction(1/2)  + 6 * 3"
      ],
      "outputs": [
        {
          "output_type": "execute_result",
          "execution_count": 23,
          "data": {
            "text/plain": [
              "Fraction(37, 2)"
            ]
          },
          "metadata": {}
        }
      ],
      "execution_count": 23,
      "metadata": {
        "collapsed": false,
        "outputHidden": false,
        "inputHidden": false
      }
    },
    {
      "cell_type": "code",
      "source": [
        "Fraction(1/2) * Fraction(1/4) "
      ],
      "outputs": [
        {
          "output_type": "execute_result",
          "execution_count": 24,
          "data": {
            "text/plain": [
              "Fraction(1, 8)"
            ]
          },
          "metadata": {}
        }
      ],
      "execution_count": 24,
      "metadata": {
        "collapsed": false,
        "outputHidden": false,
        "inputHidden": false
      }
    },
    {
      "cell_type": "markdown",
      "source": [
        "Complex Numbers"
      ],
      "metadata": {}
    },
    {
      "cell_type": "code",
      "source": [
        "# For complex number use \"j\" instead of \"i\"\n",
        "# Example complex number is \"6 + 3i\";however, in Python as \"6 + 3j\"\n",
        "a = 4 + 2i # Does not work\n",
        "type(a)"
      ],
      "outputs": [
        {
          "output_type": "error",
          "ename": "SyntaxError",
          "evalue": "invalid syntax (<ipython-input-25-deebe17d43d6>, line 3)",
          "traceback": [
            "\u001b[1;36m  File \u001b[1;32m\"<ipython-input-25-deebe17d43d6>\"\u001b[1;36m, line \u001b[1;32m3\u001b[0m\n\u001b[1;33m    a = 4 + 2i # Does not work\u001b[0m\n\u001b[1;37m             ^\u001b[0m\n\u001b[1;31mSyntaxError\u001b[0m\u001b[1;31m:\u001b[0m invalid syntax\n"
          ]
        }
      ],
      "execution_count": 25,
      "metadata": {
        "collapsed": false,
        "outputHidden": false,
        "inputHidden": false
      }
    },
    {
      "cell_type": "code",
      "source": [
        "a = 4 + 2j\n",
        "type(a)"
      ],
      "outputs": [
        {
          "output_type": "execute_result",
          "execution_count": 26,
          "data": {
            "text/plain": [
              "complex"
            ]
          },
          "metadata": {}
        }
      ],
      "execution_count": 26,
      "metadata": {
        "collapsed": false,
        "outputHidden": false,
        "inputHidden": false
      }
    },
    {
      "cell_type": "code",
      "source": [
        "a = complex(4, 8)\n",
        "print(\"Complex Number:\", a)"
      ],
      "outputs": [
        {
          "output_type": "stream",
          "name": "stdout",
          "text": [
            "Complex Number: (4+8j)\n"
          ]
        }
      ],
      "execution_count": 27,
      "metadata": {
        "collapsed": false,
        "outputHidden": false,
        "inputHidden": false
      }
    },
    {
      "cell_type": "code",
      "source": [
        "b = 2 + 2j\n",
        "c = 3 + 3j "
      ],
      "outputs": [],
      "execution_count": 28,
      "metadata": {
        "collapsed": false,
        "outputHidden": false,
        "inputHidden": false
      }
    },
    {
      "cell_type": "code",
      "source": [
        "a + b"
      ],
      "outputs": [
        {
          "output_type": "execute_result",
          "execution_count": 29,
          "data": {
            "text/plain": [
              "(6+10j)"
            ]
          },
          "metadata": {}
        }
      ],
      "execution_count": 29,
      "metadata": {
        "collapsed": false,
        "outputHidden": false,
        "inputHidden": false
      }
    },
    {
      "cell_type": "code",
      "source": [
        "a - b"
      ],
      "outputs": [
        {
          "output_type": "execute_result",
          "execution_count": 30,
          "data": {
            "text/plain": [
              "(2+6j)"
            ]
          },
          "metadata": {}
        }
      ],
      "execution_count": 30,
      "metadata": {
        "collapsed": false,
        "outputHidden": false,
        "inputHidden": false
      }
    },
    {
      "cell_type": "code",
      "source": [
        "a * b"
      ],
      "outputs": [
        {
          "output_type": "execute_result",
          "execution_count": 31,
          "data": {
            "text/plain": [
              "(-8+24j)"
            ]
          },
          "metadata": {}
        }
      ],
      "execution_count": 31,
      "metadata": {
        "collapsed": false,
        "outputHidden": false,
        "inputHidden": false
      }
    },
    {
      "cell_type": "code",
      "source": [
        "a / b"
      ],
      "outputs": [
        {
          "output_type": "execute_result",
          "execution_count": 32,
          "data": {
            "text/plain": [
              "(3+1j)"
            ]
          },
          "metadata": {}
        }
      ],
      "execution_count": 32,
      "metadata": {
        "collapsed": false,
        "outputHidden": false,
        "inputHidden": false
      }
    },
    {
      "cell_type": "code",
      "source": [
        "# Show which number is real and imaginary numbers\n",
        "print(\"Real number:\", a.real)\n",
        "print(\"Imaginary number:\", a.imag)"
      ],
      "outputs": [
        {
          "output_type": "stream",
          "name": "stdout",
          "text": [
            "Real number: 4.0\n",
            "Imaginary number: 8.0\n"
          ]
        }
      ],
      "execution_count": 33,
      "metadata": {
        "collapsed": false,
        "outputHidden": false,
        "inputHidden": false
      }
    },
    {
      "cell_type": "code",
      "source": [
        "from sympy import *\n",
        "\n",
        "x = Symbol('x')\n",
        "y = Symbol('y')\n",
        "z = Symbol('z')"
      ],
      "outputs": [],
      "execution_count": 34,
      "metadata": {
        "collapsed": false,
        "outputHidden": false,
        "inputHidden": false
      }
    },
    {
      "cell_type": "code",
      "source": [
        "a = x*y + x*y\n",
        "a"
      ],
      "outputs": [
        {
          "output_type": "execute_result",
          "execution_count": 35,
          "data": {
            "text/plain": [
              "2*x*y"
            ]
          },
          "metadata": {}
        }
      ],
      "execution_count": 35,
      "metadata": {
        "collapsed": false,
        "outputHidden": false,
        "inputHidden": false
      }
    },
    {
      "cell_type": "code",
      "source": [
        "c = (x + 6)*(x + 4)\n",
        "c"
      ],
      "outputs": [
        {
          "output_type": "execute_result",
          "execution_count": 36,
          "data": {
            "text/plain": [
              "(x + 4)*(x + 6)"
            ]
          },
          "metadata": {}
        }
      ],
      "execution_count": 36,
      "metadata": {
        "collapsed": false,
        "outputHidden": false,
        "inputHidden": false
      }
    },
    {
      "cell_type": "code",
      "source": [
        "# Expand the factor\n",
        "expand(c)"
      ],
      "outputs": [
        {
          "output_type": "execute_result",
          "execution_count": 37,
          "data": {
            "text/plain": [
              "x**2 + 10*x + 24"
            ]
          },
          "metadata": {}
        }
      ],
      "execution_count": 37,
      "metadata": {
        "collapsed": false,
        "outputHidden": false,
        "inputHidden": false
      }
    },
    {
      "cell_type": "code",
      "source": [
        "d = (x+y)**2\n",
        "expand(d)"
      ],
      "outputs": [
        {
          "output_type": "execute_result",
          "execution_count": 38,
          "data": {
            "text/plain": [
              "x**2 + 2*x*y + y**2"
            ]
          },
          "metadata": {}
        }
      ],
      "execution_count": 38,
      "metadata": {
        "collapsed": false,
        "outputHidden": false,
        "inputHidden": false
      }
    },
    {
      "cell_type": "code",
      "source": [
        "e = (x-y)**2\n",
        "expand(e)"
      ],
      "outputs": [
        {
          "output_type": "execute_result",
          "execution_count": 39,
          "data": {
            "text/plain": [
              "x**2 - 2*x*y + y**2"
            ]
          },
          "metadata": {}
        }
      ],
      "execution_count": 39,
      "metadata": {
        "collapsed": false,
        "outputHidden": false,
        "inputHidden": false
      }
    },
    {
      "cell_type": "code",
      "source": [
        "g = (x+y)**3\n",
        "expand(g)"
      ],
      "outputs": [
        {
          "output_type": "execute_result",
          "execution_count": 40,
          "data": {
            "text/plain": [
              "x**3 + 3*x**2*y + 3*x*y**2 + y**3"
            ]
          },
          "metadata": {}
        }
      ],
      "execution_count": 40,
      "metadata": {
        "collapsed": false,
        "outputHidden": false,
        "inputHidden": false
      }
    },
    {
      "cell_type": "code",
      "source": [
        "from sympy import pprint # Shows math expression\n",
        "pprint(g)"
      ],
      "outputs": [
        {
          "output_type": "stream",
          "name": "stdout",
          "text": [
            "       3\n",
            "(x + y) \n"
          ]
        }
      ],
      "execution_count": 41,
      "metadata": {
        "collapsed": false,
        "outputHidden": false,
        "inputHidden": false
      }
    },
    {
      "cell_type": "code",
      "source": [
        "u = 3*x**3 + 6*x*y - 3*y**3\n",
        "pprint(u)"
      ],
      "outputs": [
        {
          "output_type": "stream",
          "name": "stdout",
          "text": [
            "   3              3\n",
            "3⋅x  + 6⋅x⋅y - 3⋅y \n"
          ]
        }
      ],
      "execution_count": 42,
      "metadata": {
        "collapsed": false,
        "outputHidden": false,
        "inputHidden": false
      }
    },
    {
      "cell_type": "code",
      "source": [
        "from math import sqrt\n",
        "import cmath # has complex number\n",
        "# Quandratic Formula\n",
        "# https://en.wikipedia.org/wiki/Quadratic_formula\n",
        "# General Equation ax^2 + bx + c = 0\n",
        "# x = -b + sqrt(b**2 - 4ac) / 2a\n",
        "# x = -b - sqrt(b**2 - 4ac) / 2a\n",
        "a = 2\n",
        "b = 4\n",
        "c = 8\n",
        "\n",
        "# Check if the discriminant is positive, negative, or zero\n",
        "d = b**2-4*a*c # discriminant\n",
        "\n",
        "if d < 0:\n",
        "    print(\"No Solutions!\") # It has imaginary number\n",
        "elif d == 0:\n",
        "    x = -b / (2*a)\n",
        "    print(\"One solution:\", x) # Same solutions\n",
        "else:\n",
        "    x1 = (-b+sqrt((b**2)-(4*(a*c))))/(2*a)\n",
        "    x2 = (-b-sqrt((b**2)-(4*(a*c))))/(2*a)\n",
        "    print(\"Two solutions: \", x1, \" and\", x2)"
      ],
      "outputs": [
        {
          "output_type": "stream",
          "name": "stdout",
          "text": [
            "No Solutions!\n"
          ]
        }
      ],
      "execution_count": 43,
      "metadata": {
        "collapsed": false,
        "outputHidden": false,
        "inputHidden": false
      }
    },
    {
      "cell_type": "code",
      "source": [
        "a = 9\n",
        "b = 12\n",
        "c = 4\n",
        "d = b**2-4*a*c # discriminant\n",
        "\n",
        "if d < 0:\n",
        "    print(\"No Solutions!\")\n",
        "elif d == 0:\n",
        "    x = -b / (2*a)\n",
        "    print(\"One solution:\", x)\n",
        "else:\n",
        "    x1 = (-b+sqrt((b**2)-(4*(a*c))))/(2*a)\n",
        "    x2 = (-b-sqrt((b**2)-(4*(a*c))))/(2*a)\n",
        "    print(\"Two solutions: \", x1, \" and\", x2)"
      ],
      "outputs": [
        {
          "output_type": "stream",
          "name": "stdout",
          "text": [
            "One solution: -0.6666666666666666\n"
          ]
        }
      ],
      "execution_count": 44,
      "metadata": {
        "collapsed": false,
        "outputHidden": false,
        "inputHidden": false
      }
    },
    {
      "cell_type": "code",
      "source": [
        "a = 1\n",
        "b = 4\n",
        "c = 3\n",
        "d = b**2-4*a*c # discriminant\n",
        "\n",
        "if d < 0:\n",
        "    print(\"No Solutions!\")\n",
        "elif d == 0:\n",
        "    x = -b / (2*a)\n",
        "    print(\"One solution:\", x)\n",
        "else:\n",
        "    x1 = (-b+sqrt((b**2)-(4*(a*c))))/(2*a)\n",
        "    x2 = (-b-sqrt((b**2)-(4*(a*c))))/(2*a)\n",
        "    print(\"Two solutions: \", x1, \" and\", x2)"
      ],
      "outputs": [
        {
          "output_type": "stream",
          "name": "stdout",
          "text": [
            "Two solutions:  -1.0  and -3.0\n"
          ]
        }
      ],
      "execution_count": 45,
      "metadata": {
        "collapsed": false,
        "outputHidden": false,
        "inputHidden": false
      }
    },
    {
      "cell_type": "code",
      "source": [
        "# This shows real and imaginary numbers\n",
        "\n",
        "a = 3\n",
        "b = 4\n",
        "c = 2\n",
        "d = b**2-4*a*c # discriminant\n",
        "\n",
        "if d < 0:\n",
        "    x1=(-b+cmath.sqrt(d))/(2*a)\n",
        "    x2=(-b-cmath.sqrt(d))/(2*a)\n",
        "    print(\"Complex Number\")\n",
        "    print(\"x1=\",x1,\" and x2=\",x2)\n",
        "elif d > 0:\n",
        "    x1=(-b+sqrt(d))/(2*a)\n",
        "    x2=(-b-sqrt(d))/(2*a)\n",
        "    print(\"Real Number\")\n",
        "    print(\"x1=\",x1,\" and x2=\",x2)\n",
        "elif d==0:\n",
        "    x=-b/(2*a)\n",
        "    print(\"Equal to Zero\" )\n",
        "    print(\"x=\",x)\n",
        "else: \n",
        "    print(\"This is NOT Quadratic Equation!\")"
      ],
      "outputs": [
        {
          "output_type": "stream",
          "name": "stdout",
          "text": [
            "Complex Number\n",
            "x1= (-0.6666666666666666+0.47140452079103173j)  and x2= (-0.6666666666666666-0.47140452079103173j)\n"
          ]
        }
      ],
      "execution_count": 46,
      "metadata": {
        "collapsed": false,
        "outputHidden": false,
        "inputHidden": false
      }
    },
    {
      "cell_type": "code",
      "source": [
        "\n",
        "a = 3\n",
        "b = 4\n",
        "c = 2\n",
        "d = b**2-4*a*c # discriminant\n",
        "\n",
        "if d < 0: \n",
        "    x1=(-b+cmath.sqrt(d))/(2*a)\n",
        "    x2=(-b-cmath.sqrt(d))/(2*a)\n",
        "    print(\"Complex Number\")\n",
        "    print(\"x1=\",x1.real, x1.imag,\"and x2=\",x2.real, x2.imag)\n",
        "elif d > 0:\n",
        "    x1=(-b+sqrt(d))/(2*a)\n",
        "    x2=(-b-sqrt(d))/(2*a)\n",
        "    print(\"Real Number\")\n",
        "    print(\"x1=\",x1,\" and x2=\",x2)\n",
        "elif d==0:\n",
        "    x=-b/(2*a)\n",
        "    print(\"Equal to Zero\" )\n",
        "    print(\"x=\",x)\n",
        "else: \n",
        "    print(\"This is NOT Quadratic Equation!\")"
      ],
      "outputs": [
        {
          "output_type": "stream",
          "name": "stdout",
          "text": [
            "Complex Number\n",
            "x1= -0.6666666666666666 0.47140452079103173 and x2= -0.6666666666666666 -0.47140452079103173\n"
          ]
        }
      ],
      "execution_count": 47,
      "metadata": {
        "collapsed": false,
        "outputHidden": false,
        "inputHidden": false
      }
    },
    {
      "cell_type": "markdown",
      "source": [
        "Graphing"
      ],
      "metadata": {}
    },
    {
      "cell_type": "code",
      "source": [
        "import matplotlib.pyplot as plt"
      ],
      "outputs": [],
      "execution_count": 48,
      "metadata": {
        "collapsed": false,
        "outputHidden": false,
        "inputHidden": false
      }
    },
    {
      "cell_type": "code",
      "source": [
        "y = [1,2,3,4,5,6]   # List of numbers\n",
        "plt.plot(y)         # Plot graph\n",
        "plt.show()          # Show the plot"
      ],
      "outputs": [
        {
          "output_type": "display_data",
          "data": {
            "image/png": "[encoded data removed]",
            "text/plain": [
              "<Figure size 432x288 with 1 Axes>"
            ]
          },
          "metadata": {}
        }
      ],
      "execution_count": 49,
      "metadata": {
        "collapsed": false,
        "outputHidden": false,
        "inputHidden": false
      }
    },
    {
      "cell_type": "code",
      "source": [
        "# Parabola\n",
        "a = []\n",
        "b = []\n",
        "for x in range(-20,20,1):\n",
        "    y=x**2\n",
        "    a.append(x)\n",
        "    b.append(y)\n",
        "\n",
        "plt.plot(a,b)\n",
        "plt.show()"
      ],
      "outputs": [
        {
          "output_type": "display_data",
          "data": {
            "image/png": "[encoded data removed]",
            "text/plain": [
              "<Figure size 432x288 with 1 Axes>"
            ]
          },
          "metadata": {}
        }
      ],
      "execution_count": 50,
      "metadata": {
        "collapsed": false,
        "outputHidden": false,
        "inputHidden": false
      }
    },
    {
      "cell_type": "code",
      "source": [
        "# Trignometry \n",
        "import math\n",
        "\n",
        "def cos(x):\n",
        "    return cos(radians(x))\n",
        "def sin(x):\n",
        "    return sin(radians(x))\n",
        "def tan(x):\n",
        "    return tan(radians(x))\n",
        "def arc_tan(x):\n",
        "    return math.degrees(atan(x))\n",
        "def arc_sine(x):\n",
        "    return math.degrees(asin(x))\n",
        "def arc_cos(x):\n",
        "    return math.degrees(acos(x))\n",
        "\n",
        "print(\"Radians\")\n",
        "print(math.cos(180))\n",
        "print(math.sin(90))\n",
        "print(math.tan(45))\n",
        "print(\"Degrees\")\n",
        "print(arc_tan(1))\n",
        "print(arc_sine(1))\n",
        "print(arc_cos(1))"
      ],
      "outputs": [
        {
          "output_type": "stream",
          "name": "stdout",
          "text": [
            "Radians\n",
            "-0.5984600690578581\n",
            "0.8939966636005579\n",
            "1.6197751905438615\n",
            "Degrees\n",
            "45.0\n",
            "90.0\n",
            "0.0\n"
          ]
        }
      ],
      "execution_count": 51,
      "metadata": {
        "collapsed": false,
        "outputHidden": false,
        "inputHidden": false
      }
    }
  ],
  "metadata": {
    "kernel_info": {
      "name": "python3"
    },
    "kernelspec": {
      "name": "python3",
      "language": "python",
      "display_name": "Python 3"
    },
    "language_info": {
      "nbconvert_exporter": "python",
      "name": "python",
      "pygments_lexer": "ipython3",
      "mimetype": "text/x-python",
      "file_extension": ".py",
      "codemirror_mode": {
        "name": "ipython",
        "version": 3
      },
      "version": "3.5.5"
    },
    "nteract": {
      "version": "0.11.7"
    }
  },
  "nbformat": 4,
  "nbformat_minor": 4
}